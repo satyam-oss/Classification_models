{
 "cells": [
  {
   "cell_type": "markdown",
   "id": "001b0046",
   "metadata": {},
   "source": [
    "Here we will test out various methods for classification and choose the best of them. The dataset used contains data about the properties of a house for sale and the goal is to predict whether it will be sold within the next three months or not.\n",
    "\n",
    "#### Importing the required modules and loading the dataset"
   ]
  },
  {
   "cell_type": "code",
   "execution_count": 1,
   "id": "3731b1a7",
   "metadata": {},
   "outputs": [],
   "source": [
    "import pandas as pd\n",
    "import numpy as np\n",
    "import matplotlib.pyplot as plt\n",
    "import seaborn as sn"
   ]
  },
  {
   "cell_type": "code",
   "execution_count": 2,
   "id": "4bb9e6c8",
   "metadata": {},
   "outputs": [
    {
     "data": {
      "text/html": [
       "<div>\n",
       "<style scoped>\n",
       "    .dataframe tbody tr th:only-of-type {\n",
       "        vertical-align: middle;\n",
       "    }\n",
       "\n",
       "    .dataframe tbody tr th {\n",
       "        vertical-align: top;\n",
       "    }\n",
       "\n",
       "    .dataframe thead th {\n",
       "        text-align: right;\n",
       "    }\n",
       "</style>\n",
       "<table border=\"1\" class=\"dataframe\">\n",
       "  <thead>\n",
       "    <tr style=\"text-align: right;\">\n",
       "      <th></th>\n",
       "      <th>price</th>\n",
       "      <th>resid_area</th>\n",
       "      <th>air_qual</th>\n",
       "      <th>room_num</th>\n",
       "      <th>age</th>\n",
       "      <th>dist1</th>\n",
       "      <th>dist2</th>\n",
       "      <th>dist3</th>\n",
       "      <th>dist4</th>\n",
       "      <th>teachers</th>\n",
       "      <th>poor_prop</th>\n",
       "      <th>airport</th>\n",
       "      <th>n_hos_beds</th>\n",
       "      <th>n_hot_rooms</th>\n",
       "      <th>waterbody</th>\n",
       "      <th>rainfall</th>\n",
       "      <th>bus_ter</th>\n",
       "      <th>parks</th>\n",
       "      <th>Sold</th>\n",
       "    </tr>\n",
       "  </thead>\n",
       "  <tbody>\n",
       "    <tr>\n",
       "      <th>0</th>\n",
       "      <td>24.0</td>\n",
       "      <td>32.31</td>\n",
       "      <td>0.538</td>\n",
       "      <td>6.575</td>\n",
       "      <td>65.2</td>\n",
       "      <td>4.35</td>\n",
       "      <td>3.81</td>\n",
       "      <td>4.18</td>\n",
       "      <td>4.01</td>\n",
       "      <td>24.7</td>\n",
       "      <td>4.98</td>\n",
       "      <td>YES</td>\n",
       "      <td>5.480</td>\n",
       "      <td>11.1920</td>\n",
       "      <td>River</td>\n",
       "      <td>23</td>\n",
       "      <td>YES</td>\n",
       "      <td>0.049347</td>\n",
       "      <td>0</td>\n",
       "    </tr>\n",
       "    <tr>\n",
       "      <th>1</th>\n",
       "      <td>21.6</td>\n",
       "      <td>37.07</td>\n",
       "      <td>0.469</td>\n",
       "      <td>6.421</td>\n",
       "      <td>78.9</td>\n",
       "      <td>4.99</td>\n",
       "      <td>4.70</td>\n",
       "      <td>5.12</td>\n",
       "      <td>5.06</td>\n",
       "      <td>22.2</td>\n",
       "      <td>9.14</td>\n",
       "      <td>NO</td>\n",
       "      <td>7.332</td>\n",
       "      <td>12.1728</td>\n",
       "      <td>Lake</td>\n",
       "      <td>42</td>\n",
       "      <td>YES</td>\n",
       "      <td>0.046146</td>\n",
       "      <td>1</td>\n",
       "    </tr>\n",
       "    <tr>\n",
       "      <th>2</th>\n",
       "      <td>34.7</td>\n",
       "      <td>37.07</td>\n",
       "      <td>0.469</td>\n",
       "      <td>7.185</td>\n",
       "      <td>61.1</td>\n",
       "      <td>5.03</td>\n",
       "      <td>4.86</td>\n",
       "      <td>5.01</td>\n",
       "      <td>4.97</td>\n",
       "      <td>22.2</td>\n",
       "      <td>4.03</td>\n",
       "      <td>NO</td>\n",
       "      <td>7.394</td>\n",
       "      <td>101.1200</td>\n",
       "      <td>None</td>\n",
       "      <td>38</td>\n",
       "      <td>YES</td>\n",
       "      <td>0.045764</td>\n",
       "      <td>0</td>\n",
       "    </tr>\n",
       "    <tr>\n",
       "      <th>3</th>\n",
       "      <td>33.4</td>\n",
       "      <td>32.18</td>\n",
       "      <td>0.458</td>\n",
       "      <td>6.998</td>\n",
       "      <td>45.8</td>\n",
       "      <td>6.21</td>\n",
       "      <td>5.93</td>\n",
       "      <td>6.16</td>\n",
       "      <td>5.96</td>\n",
       "      <td>21.3</td>\n",
       "      <td>2.94</td>\n",
       "      <td>YES</td>\n",
       "      <td>9.268</td>\n",
       "      <td>11.2672</td>\n",
       "      <td>Lake</td>\n",
       "      <td>45</td>\n",
       "      <td>YES</td>\n",
       "      <td>0.047151</td>\n",
       "      <td>0</td>\n",
       "    </tr>\n",
       "    <tr>\n",
       "      <th>4</th>\n",
       "      <td>36.2</td>\n",
       "      <td>32.18</td>\n",
       "      <td>0.458</td>\n",
       "      <td>7.147</td>\n",
       "      <td>54.2</td>\n",
       "      <td>6.16</td>\n",
       "      <td>5.86</td>\n",
       "      <td>6.37</td>\n",
       "      <td>5.86</td>\n",
       "      <td>21.3</td>\n",
       "      <td>5.33</td>\n",
       "      <td>NO</td>\n",
       "      <td>8.824</td>\n",
       "      <td>11.2896</td>\n",
       "      <td>Lake</td>\n",
       "      <td>55</td>\n",
       "      <td>YES</td>\n",
       "      <td>0.039474</td>\n",
       "      <td>0</td>\n",
       "    </tr>\n",
       "    <tr>\n",
       "      <th>5</th>\n",
       "      <td>28.7</td>\n",
       "      <td>32.18</td>\n",
       "      <td>0.458</td>\n",
       "      <td>6.430</td>\n",
       "      <td>58.7</td>\n",
       "      <td>6.22</td>\n",
       "      <td>5.80</td>\n",
       "      <td>6.23</td>\n",
       "      <td>5.99</td>\n",
       "      <td>21.3</td>\n",
       "      <td>5.21</td>\n",
       "      <td>YES</td>\n",
       "      <td>7.174</td>\n",
       "      <td>14.2296</td>\n",
       "      <td>None</td>\n",
       "      <td>53</td>\n",
       "      <td>YES</td>\n",
       "      <td>0.045910</td>\n",
       "      <td>1</td>\n",
       "    </tr>\n",
       "    <tr>\n",
       "      <th>6</th>\n",
       "      <td>22.9</td>\n",
       "      <td>37.87</td>\n",
       "      <td>0.524</td>\n",
       "      <td>6.012</td>\n",
       "      <td>66.6</td>\n",
       "      <td>5.87</td>\n",
       "      <td>5.47</td>\n",
       "      <td>5.70</td>\n",
       "      <td>5.20</td>\n",
       "      <td>24.8</td>\n",
       "      <td>12.43</td>\n",
       "      <td>YES</td>\n",
       "      <td>6.958</td>\n",
       "      <td>12.1832</td>\n",
       "      <td>River</td>\n",
       "      <td>41</td>\n",
       "      <td>YES</td>\n",
       "      <td>0.052170</td>\n",
       "      <td>1</td>\n",
       "    </tr>\n",
       "    <tr>\n",
       "      <th>7</th>\n",
       "      <td>22.1</td>\n",
       "      <td>37.87</td>\n",
       "      <td>0.524</td>\n",
       "      <td>6.172</td>\n",
       "      <td>96.1</td>\n",
       "      <td>6.04</td>\n",
       "      <td>5.85</td>\n",
       "      <td>6.25</td>\n",
       "      <td>5.66</td>\n",
       "      <td>24.8</td>\n",
       "      <td>19.15</td>\n",
       "      <td>NO</td>\n",
       "      <td>5.842</td>\n",
       "      <td>12.1768</td>\n",
       "      <td>Lake</td>\n",
       "      <td>56</td>\n",
       "      <td>YES</td>\n",
       "      <td>0.057075</td>\n",
       "      <td>1</td>\n",
       "    </tr>\n",
       "    <tr>\n",
       "      <th>8</th>\n",
       "      <td>16.5</td>\n",
       "      <td>37.87</td>\n",
       "      <td>0.524</td>\n",
       "      <td>5.631</td>\n",
       "      <td>100.0</td>\n",
       "      <td>6.18</td>\n",
       "      <td>5.85</td>\n",
       "      <td>6.30</td>\n",
       "      <td>6.00</td>\n",
       "      <td>24.8</td>\n",
       "      <td>29.93</td>\n",
       "      <td>YES</td>\n",
       "      <td>5.930</td>\n",
       "      <td>12.1320</td>\n",
       "      <td>None</td>\n",
       "      <td>55</td>\n",
       "      <td>YES</td>\n",
       "      <td>0.056302</td>\n",
       "      <td>0</td>\n",
       "    </tr>\n",
       "    <tr>\n",
       "      <th>9</th>\n",
       "      <td>18.9</td>\n",
       "      <td>37.87</td>\n",
       "      <td>0.524</td>\n",
       "      <td>6.004</td>\n",
       "      <td>85.9</td>\n",
       "      <td>6.67</td>\n",
       "      <td>6.55</td>\n",
       "      <td>6.85</td>\n",
       "      <td>6.29</td>\n",
       "      <td>24.8</td>\n",
       "      <td>17.10</td>\n",
       "      <td>YES</td>\n",
       "      <td>9.478</td>\n",
       "      <td>14.1512</td>\n",
       "      <td>River</td>\n",
       "      <td>45</td>\n",
       "      <td>YES</td>\n",
       "      <td>0.050727</td>\n",
       "      <td>0</td>\n",
       "    </tr>\n",
       "    <tr>\n",
       "      <th>10</th>\n",
       "      <td>15.0</td>\n",
       "      <td>37.87</td>\n",
       "      <td>0.524</td>\n",
       "      <td>6.377</td>\n",
       "      <td>94.3</td>\n",
       "      <td>6.65</td>\n",
       "      <td>6.31</td>\n",
       "      <td>6.55</td>\n",
       "      <td>5.88</td>\n",
       "      <td>24.8</td>\n",
       "      <td>20.45</td>\n",
       "      <td>NO</td>\n",
       "      <td>6.000</td>\n",
       "      <td>11.1200</td>\n",
       "      <td>Lake</td>\n",
       "      <td>29</td>\n",
       "      <td>YES</td>\n",
       "      <td>0.057775</td>\n",
       "      <td>1</td>\n",
       "    </tr>\n",
       "    <tr>\n",
       "      <th>11</th>\n",
       "      <td>18.9</td>\n",
       "      <td>37.87</td>\n",
       "      <td>0.524</td>\n",
       "      <td>6.009</td>\n",
       "      <td>82.9</td>\n",
       "      <td>6.27</td>\n",
       "      <td>5.93</td>\n",
       "      <td>6.51</td>\n",
       "      <td>6.19</td>\n",
       "      <td>24.8</td>\n",
       "      <td>13.27</td>\n",
       "      <td>NO</td>\n",
       "      <td>9.278</td>\n",
       "      <td>13.1512</td>\n",
       "      <td>Lake and River</td>\n",
       "      <td>23</td>\n",
       "      <td>YES</td>\n",
       "      <td>0.055237</td>\n",
       "      <td>1</td>\n",
       "    </tr>\n",
       "    <tr>\n",
       "      <th>12</th>\n",
       "      <td>21.7</td>\n",
       "      <td>37.87</td>\n",
       "      <td>0.524</td>\n",
       "      <td>5.889</td>\n",
       "      <td>39.0</td>\n",
       "      <td>5.76</td>\n",
       "      <td>5.14</td>\n",
       "      <td>5.58</td>\n",
       "      <td>5.33</td>\n",
       "      <td>24.8</td>\n",
       "      <td>15.71</td>\n",
       "      <td>YES</td>\n",
       "      <td>5.534</td>\n",
       "      <td>10.1736</td>\n",
       "      <td>Lake and River</td>\n",
       "      <td>57</td>\n",
       "      <td>YES</td>\n",
       "      <td>0.057423</td>\n",
       "      <td>1</td>\n",
       "    </tr>\n",
       "    <tr>\n",
       "      <th>13</th>\n",
       "      <td>20.4</td>\n",
       "      <td>38.14</td>\n",
       "      <td>0.538</td>\n",
       "      <td>5.949</td>\n",
       "      <td>61.8</td>\n",
       "      <td>4.72</td>\n",
       "      <td>4.59</td>\n",
       "      <td>4.93</td>\n",
       "      <td>4.59</td>\n",
       "      <td>19.0</td>\n",
       "      <td>8.26</td>\n",
       "      <td>YES</td>\n",
       "      <td>5.908</td>\n",
       "      <td>14.1632</td>\n",
       "      <td>None</td>\n",
       "      <td>39</td>\n",
       "      <td>YES</td>\n",
       "      <td>0.053464</td>\n",
       "      <td>0</td>\n",
       "    </tr>\n",
       "    <tr>\n",
       "      <th>14</th>\n",
       "      <td>18.2</td>\n",
       "      <td>38.14</td>\n",
       "      <td>0.538</td>\n",
       "      <td>6.096</td>\n",
       "      <td>84.5</td>\n",
       "      <td>4.60</td>\n",
       "      <td>4.20</td>\n",
       "      <td>4.48</td>\n",
       "      <td>4.58</td>\n",
       "      <td>19.0</td>\n",
       "      <td>10.26</td>\n",
       "      <td>NO</td>\n",
       "      <td>6.964</td>\n",
       "      <td>13.1456</td>\n",
       "      <td>None</td>\n",
       "      <td>49</td>\n",
       "      <td>YES</td>\n",
       "      <td>0.059882</td>\n",
       "      <td>0</td>\n",
       "    </tr>\n",
       "    <tr>\n",
       "      <th>15</th>\n",
       "      <td>19.9</td>\n",
       "      <td>38.14</td>\n",
       "      <td>0.538</td>\n",
       "      <td>5.834</td>\n",
       "      <td>56.5</td>\n",
       "      <td>4.60</td>\n",
       "      <td>4.35</td>\n",
       "      <td>4.72</td>\n",
       "      <td>4.32</td>\n",
       "      <td>19.0</td>\n",
       "      <td>8.47</td>\n",
       "      <td>YES</td>\n",
       "      <td>8.498</td>\n",
       "      <td>14.1592</td>\n",
       "      <td>River</td>\n",
       "      <td>28</td>\n",
       "      <td>YES</td>\n",
       "      <td>0.059751</td>\n",
       "      <td>0</td>\n",
       "    </tr>\n",
       "    <tr>\n",
       "      <th>16</th>\n",
       "      <td>23.1</td>\n",
       "      <td>38.14</td>\n",
       "      <td>0.538</td>\n",
       "      <td>5.935</td>\n",
       "      <td>29.3</td>\n",
       "      <td>4.66</td>\n",
       "      <td>4.39</td>\n",
       "      <td>4.52</td>\n",
       "      <td>4.43</td>\n",
       "      <td>19.0</td>\n",
       "      <td>6.58</td>\n",
       "      <td>NO</td>\n",
       "      <td>5.462</td>\n",
       "      <td>10.1848</td>\n",
       "      <td>None</td>\n",
       "      <td>46</td>\n",
       "      <td>YES</td>\n",
       "      <td>0.054699</td>\n",
       "      <td>0</td>\n",
       "    </tr>\n",
       "    <tr>\n",
       "      <th>17</th>\n",
       "      <td>17.5</td>\n",
       "      <td>38.14</td>\n",
       "      <td>0.538</td>\n",
       "      <td>5.990</td>\n",
       "      <td>81.7</td>\n",
       "      <td>4.56</td>\n",
       "      <td>4.15</td>\n",
       "      <td>4.36</td>\n",
       "      <td>3.97</td>\n",
       "      <td>19.0</td>\n",
       "      <td>14.67</td>\n",
       "      <td>NO</td>\n",
       "      <td>5.450</td>\n",
       "      <td>11.1400</td>\n",
       "      <td>Lake</td>\n",
       "      <td>56</td>\n",
       "      <td>YES</td>\n",
       "      <td>0.054785</td>\n",
       "      <td>1</td>\n",
       "    </tr>\n",
       "    <tr>\n",
       "      <th>18</th>\n",
       "      <td>20.2</td>\n",
       "      <td>38.14</td>\n",
       "      <td>0.538</td>\n",
       "      <td>5.456</td>\n",
       "      <td>36.6</td>\n",
       "      <td>3.80</td>\n",
       "      <td>3.52</td>\n",
       "      <td>3.86</td>\n",
       "      <td>4.00</td>\n",
       "      <td>19.0</td>\n",
       "      <td>11.69</td>\n",
       "      <td>YES</td>\n",
       "      <td>8.504</td>\n",
       "      <td>12.1616</td>\n",
       "      <td>Lake and River</td>\n",
       "      <td>41</td>\n",
       "      <td>YES</td>\n",
       "      <td>0.054251</td>\n",
       "      <td>0</td>\n",
       "    </tr>\n",
       "    <tr>\n",
       "      <th>19</th>\n",
       "      <td>18.2</td>\n",
       "      <td>38.14</td>\n",
       "      <td>0.538</td>\n",
       "      <td>5.727</td>\n",
       "      <td>69.5</td>\n",
       "      <td>3.98</td>\n",
       "      <td>3.65</td>\n",
       "      <td>4.00</td>\n",
       "      <td>3.57</td>\n",
       "      <td>19.0</td>\n",
       "      <td>11.28</td>\n",
       "      <td>NO</td>\n",
       "      <td>8.564</td>\n",
       "      <td>12.1456</td>\n",
       "      <td>Lake and River</td>\n",
       "      <td>27</td>\n",
       "      <td>YES</td>\n",
       "      <td>0.057770</td>\n",
       "      <td>1</td>\n",
       "    </tr>\n",
       "  </tbody>\n",
       "</table>\n",
       "</div>"
      ],
      "text/plain": [
       "    price  resid_area  air_qual  room_num    age  dist1  dist2  dist3  dist4  \\\n",
       "0    24.0       32.31     0.538     6.575   65.2   4.35   3.81   4.18   4.01   \n",
       "1    21.6       37.07     0.469     6.421   78.9   4.99   4.70   5.12   5.06   \n",
       "2    34.7       37.07     0.469     7.185   61.1   5.03   4.86   5.01   4.97   \n",
       "3    33.4       32.18     0.458     6.998   45.8   6.21   5.93   6.16   5.96   \n",
       "4    36.2       32.18     0.458     7.147   54.2   6.16   5.86   6.37   5.86   \n",
       "5    28.7       32.18     0.458     6.430   58.7   6.22   5.80   6.23   5.99   \n",
       "6    22.9       37.87     0.524     6.012   66.6   5.87   5.47   5.70   5.20   \n",
       "7    22.1       37.87     0.524     6.172   96.1   6.04   5.85   6.25   5.66   \n",
       "8    16.5       37.87     0.524     5.631  100.0   6.18   5.85   6.30   6.00   \n",
       "9    18.9       37.87     0.524     6.004   85.9   6.67   6.55   6.85   6.29   \n",
       "10   15.0       37.87     0.524     6.377   94.3   6.65   6.31   6.55   5.88   \n",
       "11   18.9       37.87     0.524     6.009   82.9   6.27   5.93   6.51   6.19   \n",
       "12   21.7       37.87     0.524     5.889   39.0   5.76   5.14   5.58   5.33   \n",
       "13   20.4       38.14     0.538     5.949   61.8   4.72   4.59   4.93   4.59   \n",
       "14   18.2       38.14     0.538     6.096   84.5   4.60   4.20   4.48   4.58   \n",
       "15   19.9       38.14     0.538     5.834   56.5   4.60   4.35   4.72   4.32   \n",
       "16   23.1       38.14     0.538     5.935   29.3   4.66   4.39   4.52   4.43   \n",
       "17   17.5       38.14     0.538     5.990   81.7   4.56   4.15   4.36   3.97   \n",
       "18   20.2       38.14     0.538     5.456   36.6   3.80   3.52   3.86   4.00   \n",
       "19   18.2       38.14     0.538     5.727   69.5   3.98   3.65   4.00   3.57   \n",
       "\n",
       "    teachers  poor_prop airport  n_hos_beds  n_hot_rooms       waterbody  \\\n",
       "0       24.7       4.98     YES       5.480      11.1920           River   \n",
       "1       22.2       9.14      NO       7.332      12.1728            Lake   \n",
       "2       22.2       4.03      NO       7.394     101.1200            None   \n",
       "3       21.3       2.94     YES       9.268      11.2672            Lake   \n",
       "4       21.3       5.33      NO       8.824      11.2896            Lake   \n",
       "5       21.3       5.21     YES       7.174      14.2296            None   \n",
       "6       24.8      12.43     YES       6.958      12.1832           River   \n",
       "7       24.8      19.15      NO       5.842      12.1768            Lake   \n",
       "8       24.8      29.93     YES       5.930      12.1320            None   \n",
       "9       24.8      17.10     YES       9.478      14.1512           River   \n",
       "10      24.8      20.45      NO       6.000      11.1200            Lake   \n",
       "11      24.8      13.27      NO       9.278      13.1512  Lake and River   \n",
       "12      24.8      15.71     YES       5.534      10.1736  Lake and River   \n",
       "13      19.0       8.26     YES       5.908      14.1632            None   \n",
       "14      19.0      10.26      NO       6.964      13.1456            None   \n",
       "15      19.0       8.47     YES       8.498      14.1592           River   \n",
       "16      19.0       6.58      NO       5.462      10.1848            None   \n",
       "17      19.0      14.67      NO       5.450      11.1400            Lake   \n",
       "18      19.0      11.69     YES       8.504      12.1616  Lake and River   \n",
       "19      19.0      11.28      NO       8.564      12.1456  Lake and River   \n",
       "\n",
       "    rainfall bus_ter     parks  Sold  \n",
       "0         23     YES  0.049347     0  \n",
       "1         42     YES  0.046146     1  \n",
       "2         38     YES  0.045764     0  \n",
       "3         45     YES  0.047151     0  \n",
       "4         55     YES  0.039474     0  \n",
       "5         53     YES  0.045910     1  \n",
       "6         41     YES  0.052170     1  \n",
       "7         56     YES  0.057075     1  \n",
       "8         55     YES  0.056302     0  \n",
       "9         45     YES  0.050727     0  \n",
       "10        29     YES  0.057775     1  \n",
       "11        23     YES  0.055237     1  \n",
       "12        57     YES  0.057423     1  \n",
       "13        39     YES  0.053464     0  \n",
       "14        49     YES  0.059882     0  \n",
       "15        28     YES  0.059751     0  \n",
       "16        46     YES  0.054699     0  \n",
       "17        56     YES  0.054785     1  \n",
       "18        41     YES  0.054251     0  \n",
       "19        27     YES  0.057770     1  "
      ]
     },
     "execution_count": 2,
     "metadata": {},
     "output_type": "execute_result"
    }
   ],
   "source": [
    "df = pd.read_csv('Houseprice.csv')\n",
    "df.head(20)"
   ]
  },
  {
   "cell_type": "markdown",
   "id": "5f3fb9d4",
   "metadata": {},
   "source": [
    "#### Preprocessing"
   ]
  },
  {
   "cell_type": "code",
   "execution_count": 3,
   "id": "bf6ba983",
   "metadata": {},
   "outputs": [
    {
     "name": "stdout",
     "output_type": "stream",
     "text": [
      "<class 'pandas.core.frame.DataFrame'>\n",
      "RangeIndex: 506 entries, 0 to 505\n",
      "Data columns (total 19 columns):\n",
      " #   Column       Non-Null Count  Dtype  \n",
      "---  ------       --------------  -----  \n",
      " 0   price        506 non-null    float64\n",
      " 1   resid_area   506 non-null    float64\n",
      " 2   air_qual     506 non-null    float64\n",
      " 3   room_num     506 non-null    float64\n",
      " 4   age          506 non-null    float64\n",
      " 5   dist1        506 non-null    float64\n",
      " 6   dist2        506 non-null    float64\n",
      " 7   dist3        506 non-null    float64\n",
      " 8   dist4        506 non-null    float64\n",
      " 9   teachers     506 non-null    float64\n",
      " 10  poor_prop    506 non-null    float64\n",
      " 11  airport      506 non-null    object \n",
      " 12  n_hos_beds   498 non-null    float64\n",
      " 13  n_hot_rooms  506 non-null    float64\n",
      " 14  waterbody    506 non-null    object \n",
      " 15  rainfall     506 non-null    int64  \n",
      " 16  bus_ter      506 non-null    object \n",
      " 17  parks        506 non-null    float64\n",
      " 18  Sold         506 non-null    int64  \n",
      "dtypes: float64(14), int64(2), object(3)\n",
      "memory usage: 75.2+ KB\n"
     ]
    }
   ],
   "source": [
    "df.info()"
   ]
  },
  {
   "cell_type": "markdown",
   "id": "6479dac9",
   "metadata": {},
   "source": [
    "Missing values observed in the 'n_hos_beds' column. The other predictor variables do not have any null values."
   ]
  },
  {
   "cell_type": "code",
   "execution_count": 4,
   "id": "03b2f15f",
   "metadata": {},
   "outputs": [
    {
     "data": {
      "text/plain": [
       "count    498.000000\n",
       "mean       7.899767\n",
       "std        1.476683\n",
       "min        5.268000\n",
       "25%        6.634500\n",
       "50%        7.999000\n",
       "75%        9.088000\n",
       "max       10.876000\n",
       "Name: n_hos_beds, dtype: float64"
      ]
     },
     "execution_count": 4,
     "metadata": {},
     "output_type": "execute_result"
    }
   ],
   "source": [
    "df.n_hos_beds.describe()"
   ]
  },
  {
   "cell_type": "markdown",
   "id": "5e46837c",
   "metadata": {},
   "source": [
    "The data for this does not seem to be skewered to one side. So mean can be used to fill the missing values"
   ]
  },
  {
   "cell_type": "code",
   "execution_count": 5,
   "id": "4608a158",
   "metadata": {},
   "outputs": [],
   "source": [
    "df.n_hos_beds.fillna(np.mean(df.n_hos_beds), inplace=True)"
   ]
  },
  {
   "cell_type": "code",
   "execution_count": 6,
   "id": "15aed0b8",
   "metadata": {},
   "outputs": [
    {
     "name": "stdout",
     "output_type": "stream",
     "text": [
      "<class 'pandas.core.frame.DataFrame'>\n",
      "RangeIndex: 506 entries, 0 to 505\n",
      "Data columns (total 19 columns):\n",
      " #   Column       Non-Null Count  Dtype  \n",
      "---  ------       --------------  -----  \n",
      " 0   price        506 non-null    float64\n",
      " 1   resid_area   506 non-null    float64\n",
      " 2   air_qual     506 non-null    float64\n",
      " 3   room_num     506 non-null    float64\n",
      " 4   age          506 non-null    float64\n",
      " 5   dist1        506 non-null    float64\n",
      " 6   dist2        506 non-null    float64\n",
      " 7   dist3        506 non-null    float64\n",
      " 8   dist4        506 non-null    float64\n",
      " 9   teachers     506 non-null    float64\n",
      " 10  poor_prop    506 non-null    float64\n",
      " 11  airport      506 non-null    object \n",
      " 12  n_hos_beds   506 non-null    float64\n",
      " 13  n_hot_rooms  506 non-null    float64\n",
      " 14  waterbody    506 non-null    object \n",
      " 15  rainfall     506 non-null    int64  \n",
      " 16  bus_ter      506 non-null    object \n",
      " 17  parks        506 non-null    float64\n",
      " 18  Sold         506 non-null    int64  \n",
      "dtypes: float64(14), int64(2), object(3)\n",
      "memory usage: 75.2+ KB\n"
     ]
    }
   ],
   "source": [
    "df.info()"
   ]
  },
  {
   "cell_type": "markdown",
   "id": "dd2c1b19",
   "metadata": {},
   "source": [
    "##### Missing values are filled"
   ]
  },
  {
   "cell_type": "markdown",
   "id": "7f558c22",
   "metadata": {},
   "source": [
    "#### Checking for outliers by observing the statistical summary of the dataset"
   ]
  },
  {
   "cell_type": "code",
   "execution_count": 7,
   "id": "abea060f",
   "metadata": {},
   "outputs": [
    {
     "data": {
      "text/html": [
       "<div>\n",
       "<style scoped>\n",
       "    .dataframe tbody tr th:only-of-type {\n",
       "        vertical-align: middle;\n",
       "    }\n",
       "\n",
       "    .dataframe tbody tr th {\n",
       "        vertical-align: top;\n",
       "    }\n",
       "\n",
       "    .dataframe thead th {\n",
       "        text-align: right;\n",
       "    }\n",
       "</style>\n",
       "<table border=\"1\" class=\"dataframe\">\n",
       "  <thead>\n",
       "    <tr style=\"text-align: right;\">\n",
       "      <th></th>\n",
       "      <th>price</th>\n",
       "      <th>resid_area</th>\n",
       "      <th>air_qual</th>\n",
       "      <th>room_num</th>\n",
       "      <th>age</th>\n",
       "      <th>dist1</th>\n",
       "      <th>dist2</th>\n",
       "      <th>dist3</th>\n",
       "      <th>dist4</th>\n",
       "      <th>teachers</th>\n",
       "      <th>poor_prop</th>\n",
       "      <th>n_hos_beds</th>\n",
       "      <th>n_hot_rooms</th>\n",
       "      <th>rainfall</th>\n",
       "      <th>parks</th>\n",
       "      <th>Sold</th>\n",
       "    </tr>\n",
       "  </thead>\n",
       "  <tbody>\n",
       "    <tr>\n",
       "      <th>count</th>\n",
       "      <td>506.000000</td>\n",
       "      <td>506.000000</td>\n",
       "      <td>506.000000</td>\n",
       "      <td>506.000000</td>\n",
       "      <td>506.000000</td>\n",
       "      <td>506.000000</td>\n",
       "      <td>506.000000</td>\n",
       "      <td>506.000000</td>\n",
       "      <td>506.000000</td>\n",
       "      <td>506.000000</td>\n",
       "      <td>506.000000</td>\n",
       "      <td>506.000000</td>\n",
       "      <td>506.000000</td>\n",
       "      <td>506.000000</td>\n",
       "      <td>506.000000</td>\n",
       "      <td>506.000000</td>\n",
       "    </tr>\n",
       "    <tr>\n",
       "      <th>mean</th>\n",
       "      <td>22.528854</td>\n",
       "      <td>41.136779</td>\n",
       "      <td>0.554695</td>\n",
       "      <td>6.284634</td>\n",
       "      <td>68.574901</td>\n",
       "      <td>3.971996</td>\n",
       "      <td>3.628775</td>\n",
       "      <td>3.960672</td>\n",
       "      <td>3.618972</td>\n",
       "      <td>21.544466</td>\n",
       "      <td>12.653063</td>\n",
       "      <td>7.899767</td>\n",
       "      <td>13.041605</td>\n",
       "      <td>39.181818</td>\n",
       "      <td>0.054454</td>\n",
       "      <td>0.454545</td>\n",
       "    </tr>\n",
       "    <tr>\n",
       "      <th>std</th>\n",
       "      <td>9.182176</td>\n",
       "      <td>6.860353</td>\n",
       "      <td>0.115878</td>\n",
       "      <td>0.702617</td>\n",
       "      <td>28.148861</td>\n",
       "      <td>2.108532</td>\n",
       "      <td>2.108580</td>\n",
       "      <td>2.119797</td>\n",
       "      <td>2.099203</td>\n",
       "      <td>2.164946</td>\n",
       "      <td>7.141062</td>\n",
       "      <td>1.464939</td>\n",
       "      <td>5.238957</td>\n",
       "      <td>12.513697</td>\n",
       "      <td>0.010632</td>\n",
       "      <td>0.498422</td>\n",
       "    </tr>\n",
       "    <tr>\n",
       "      <th>min</th>\n",
       "      <td>5.000000</td>\n",
       "      <td>30.460000</td>\n",
       "      <td>0.385000</td>\n",
       "      <td>3.561000</td>\n",
       "      <td>2.900000</td>\n",
       "      <td>1.130000</td>\n",
       "      <td>0.920000</td>\n",
       "      <td>1.150000</td>\n",
       "      <td>0.730000</td>\n",
       "      <td>18.000000</td>\n",
       "      <td>1.730000</td>\n",
       "      <td>5.268000</td>\n",
       "      <td>10.057600</td>\n",
       "      <td>3.000000</td>\n",
       "      <td>0.033292</td>\n",
       "      <td>0.000000</td>\n",
       "    </tr>\n",
       "    <tr>\n",
       "      <th>25%</th>\n",
       "      <td>17.025000</td>\n",
       "      <td>35.190000</td>\n",
       "      <td>0.449000</td>\n",
       "      <td>5.885500</td>\n",
       "      <td>45.025000</td>\n",
       "      <td>2.270000</td>\n",
       "      <td>1.940000</td>\n",
       "      <td>2.232500</td>\n",
       "      <td>1.940000</td>\n",
       "      <td>19.800000</td>\n",
       "      <td>6.950000</td>\n",
       "      <td>6.659000</td>\n",
       "      <td>11.189800</td>\n",
       "      <td>28.000000</td>\n",
       "      <td>0.046464</td>\n",
       "      <td>0.000000</td>\n",
       "    </tr>\n",
       "    <tr>\n",
       "      <th>50%</th>\n",
       "      <td>21.200000</td>\n",
       "      <td>39.690000</td>\n",
       "      <td>0.538000</td>\n",
       "      <td>6.208500</td>\n",
       "      <td>77.500000</td>\n",
       "      <td>3.385000</td>\n",
       "      <td>3.010000</td>\n",
       "      <td>3.375000</td>\n",
       "      <td>3.070000</td>\n",
       "      <td>20.950000</td>\n",
       "      <td>11.360000</td>\n",
       "      <td>7.963000</td>\n",
       "      <td>12.720000</td>\n",
       "      <td>39.000000</td>\n",
       "      <td>0.053507</td>\n",
       "      <td>0.000000</td>\n",
       "    </tr>\n",
       "    <tr>\n",
       "      <th>75%</th>\n",
       "      <td>25.000000</td>\n",
       "      <td>48.100000</td>\n",
       "      <td>0.624000</td>\n",
       "      <td>6.623500</td>\n",
       "      <td>94.075000</td>\n",
       "      <td>5.367500</td>\n",
       "      <td>4.992500</td>\n",
       "      <td>5.407500</td>\n",
       "      <td>4.985000</td>\n",
       "      <td>22.600000</td>\n",
       "      <td>16.955000</td>\n",
       "      <td>9.076000</td>\n",
       "      <td>14.170800</td>\n",
       "      <td>50.000000</td>\n",
       "      <td>0.061397</td>\n",
       "      <td>1.000000</td>\n",
       "    </tr>\n",
       "    <tr>\n",
       "      <th>max</th>\n",
       "      <td>50.000000</td>\n",
       "      <td>57.740000</td>\n",
       "      <td>0.871000</td>\n",
       "      <td>8.780000</td>\n",
       "      <td>100.000000</td>\n",
       "      <td>12.320000</td>\n",
       "      <td>11.930000</td>\n",
       "      <td>12.320000</td>\n",
       "      <td>11.940000</td>\n",
       "      <td>27.400000</td>\n",
       "      <td>37.970000</td>\n",
       "      <td>10.876000</td>\n",
       "      <td>101.120000</td>\n",
       "      <td>60.000000</td>\n",
       "      <td>0.086711</td>\n",
       "      <td>1.000000</td>\n",
       "    </tr>\n",
       "  </tbody>\n",
       "</table>\n",
       "</div>"
      ],
      "text/plain": [
       "            price  resid_area    air_qual    room_num         age       dist1  \\\n",
       "count  506.000000  506.000000  506.000000  506.000000  506.000000  506.000000   \n",
       "mean    22.528854   41.136779    0.554695    6.284634   68.574901    3.971996   \n",
       "std      9.182176    6.860353    0.115878    0.702617   28.148861    2.108532   \n",
       "min      5.000000   30.460000    0.385000    3.561000    2.900000    1.130000   \n",
       "25%     17.025000   35.190000    0.449000    5.885500   45.025000    2.270000   \n",
       "50%     21.200000   39.690000    0.538000    6.208500   77.500000    3.385000   \n",
       "75%     25.000000   48.100000    0.624000    6.623500   94.075000    5.367500   \n",
       "max     50.000000   57.740000    0.871000    8.780000  100.000000   12.320000   \n",
       "\n",
       "            dist2       dist3       dist4    teachers   poor_prop  n_hos_beds  \\\n",
       "count  506.000000  506.000000  506.000000  506.000000  506.000000  506.000000   \n",
       "mean     3.628775    3.960672    3.618972   21.544466   12.653063    7.899767   \n",
       "std      2.108580    2.119797    2.099203    2.164946    7.141062    1.464939   \n",
       "min      0.920000    1.150000    0.730000   18.000000    1.730000    5.268000   \n",
       "25%      1.940000    2.232500    1.940000   19.800000    6.950000    6.659000   \n",
       "50%      3.010000    3.375000    3.070000   20.950000   11.360000    7.963000   \n",
       "75%      4.992500    5.407500    4.985000   22.600000   16.955000    9.076000   \n",
       "max     11.930000   12.320000   11.940000   27.400000   37.970000   10.876000   \n",
       "\n",
       "       n_hot_rooms    rainfall       parks        Sold  \n",
       "count   506.000000  506.000000  506.000000  506.000000  \n",
       "mean     13.041605   39.181818    0.054454    0.454545  \n",
       "std       5.238957   12.513697    0.010632    0.498422  \n",
       "min      10.057600    3.000000    0.033292    0.000000  \n",
       "25%      11.189800   28.000000    0.046464    0.000000  \n",
       "50%      12.720000   39.000000    0.053507    0.000000  \n",
       "75%      14.170800   50.000000    0.061397    1.000000  \n",
       "max     101.120000   60.000000    0.086711    1.000000  "
      ]
     },
     "execution_count": 7,
     "metadata": {},
     "output_type": "execute_result"
    }
   ],
   "source": [
    "df.describe()"
   ]
  },
  {
   "cell_type": "markdown",
   "id": "fe86c331",
   "metadata": {},
   "source": [
    "Notice the large difference in max value and 75% value indicating an outlier on the upper side of the n_hot_rooms data points. Similarly a large difference in min value and 25% value indicating an outlier on the lower side of rainfall data point.\n",
    "\n",
    "#### Using scattter plots to confirm this indication"
   ]
  },
  {
   "cell_type": "code",
   "execution_count": 8,
   "id": "291d0b68",
   "metadata": {},
   "outputs": [
    {
     "data": {
      "text/plain": [
       "<AxesSubplot:xlabel='n_hot_rooms', ylabel='Sold'>"
      ]
     },
     "execution_count": 8,
     "metadata": {},
     "output_type": "execute_result"
    },
    {
     "data": {
      "image/png": "[encoded data removed]",
      "text/plain": [
       "<Figure size 432x288 with 1 Axes>"
      ]
     },
     "metadata": {
      "needs_background": "light"
     },
     "output_type": "display_data"
    }
   ],
   "source": [
    "sn.scatterplot(x='n_hot_rooms', y='Sold', data=df)"
   ]
  },
  {
   "cell_type": "markdown",
   "id": "7954e5fe",
   "metadata": {},
   "source": [
    "Outliers can be observed in this sctterplot on the right side. Removing these outliers is necessary as they increase the variance of the data causing low prediction accuracy.\n",
    "#### Using capping method to treat these outliers"
   ]
  },
  {
   "cell_type": "code",
   "execution_count": 9,
   "id": "217a0238",
   "metadata": {
    "scrolled": true
   },
   "outputs": [
    {
     "name": "stderr",
     "output_type": "stream",
     "text": [
      "<ipython-input-9-ad7a6f8ff2ca>:1: SettingWithCopyWarning: \n",
      "A value is trying to be set on a copy of a slice from a DataFrame\n",
      "\n",
      "See the caveats in the documentation: https://pandas.pydata.org/pandas-docs/stable/user_guide/indexing.html#returning-a-view-versus-a-copy\n",
      "  df.n_hot_rooms[df.n_hot_rooms > 3 * np.percentile(df.n_hot_rooms, [99])[0]] = 3 * np.percentile(df.n_hot_rooms, [99])[0]\n"
     ]
    }
   ],
   "source": [
    "df.n_hot_rooms[df.n_hot_rooms > 3 * np.percentile(df.n_hot_rooms, [99])[0]] = 3 * np.percentile(df.n_hot_rooms, [99])[0]"
   ]
  },
  {
   "cell_type": "markdown",
   "id": "071e0739",
   "metadata": {},
   "source": [
    "Here I used the upper limit as 3 times the 99% value to cap the data.\n",
    "Let's see if the outliers are treated"
   ]
  },
  {
   "cell_type": "code",
   "execution_count": 10,
   "id": "194631ef",
   "metadata": {},
   "outputs": [
    {
     "data": {
      "text/plain": [
       "<AxesSubplot:xlabel='n_hot_rooms', ylabel='Sold'>"
      ]
     },
     "execution_count": 10,
     "metadata": {},
     "output_type": "execute_result"
    },
    {
     "data": {
      "image/png": "[encoded data removed]",
      "text/plain": [
       "<Figure size 432x288 with 1 Axes>"
      ]
     },
     "metadata": {
      "needs_background": "light"
     },
     "output_type": "display_data"
    }
   ],
   "source": [
    "sn.scatterplot(x='n_hot_rooms', y='Sold', data=df)"
   ]
  },
  {
   "cell_type": "markdown",
   "id": "67a13406",
   "metadata": {},
   "source": [
    "Outliers are in acceptable range now where they won't increase the variance.\n",
    "#### checking the outliers in rainfall series"
   ]
  },
  {
   "cell_type": "code",
   "execution_count": 11,
   "id": "d6ddf7d9",
   "metadata": {},
   "outputs": [
    {
     "data": {
      "text/plain": [
       "<AxesSubplot:xlabel='rainfall', ylabel='Sold'>"
      ]
     },
     "execution_count": 11,
     "metadata": {},
     "output_type": "execute_result"
    },
    {
     "data": {
      "image/png": "[encoded data removed]",
      "text/plain": [
       "<Figure size 432x288 with 1 Axes>"
      ]
     },
     "metadata": {
      "needs_background": "light"
     },
     "output_type": "display_data"
    }
   ],
   "source": [
    "sn.scatterplot(x='rainfall', y='Sold', data=df)"
   ]
  },
  {
   "cell_type": "markdown",
   "id": "ffae583f",
   "metadata": {},
   "source": [
    "Outlier observed on the lower side as suspected.\n",
    "#### Using flooring to treat this outlier"
   ]
  },
  {
   "cell_type": "code",
   "execution_count": 12,
   "id": "2557a07c",
   "metadata": {},
   "outputs": [
    {
     "name": "stderr",
     "output_type": "stream",
     "text": [
      "<ipython-input-12-7dde76b0a168>:1: SettingWithCopyWarning: \n",
      "A value is trying to be set on a copy of a slice from a DataFrame\n",
      "\n",
      "See the caveats in the documentation: https://pandas.pydata.org/pandas-docs/stable/user_guide/indexing.html#returning-a-view-versus-a-copy\n",
      "  df.rainfall[df.rainfall < 0.3 * np.percentile(df.rainfall, [1])[0]] = 0.3 * np.percentile(df.rainfall, [1])[0]\n"
     ]
    }
   ],
   "source": [
    "df.rainfall[df.rainfall < 0.3 * np.percentile(df.rainfall, [1])[0]] = 0.3 * np.percentile(df.rainfall, [1])[0]"
   ]
  },
  {
   "cell_type": "code",
   "execution_count": 13,
   "id": "665f332b",
   "metadata": {},
   "outputs": [
    {
     "data": {
      "text/plain": [
       "<AxesSubplot:xlabel='rainfall', ylabel='Sold'>"
      ]
     },
     "execution_count": 13,
     "metadata": {},
     "output_type": "execute_result"
    },
    {
     "data": {
      "image/png": "[encoded data removed]",
      "text/plain": [
       "<Figure size 432x288 with 1 Axes>"
      ]
     },
     "metadata": {
      "needs_background": "light"
     },
     "output_type": "display_data"
    }
   ],
   "source": [
    "sn.scatterplot(x='rainfall', y='Sold', data=df)"
   ]
  },
  {
   "cell_type": "markdown",
   "id": "df716d46",
   "metadata": {},
   "source": [
    "It has been moved to the acceptable range\n",
    "#### Examining the categorical variables"
   ]
  },
  {
   "cell_type": "code",
   "execution_count": 14,
   "id": "d6a20adf",
   "metadata": {},
   "outputs": [
    {
     "data": {
      "text/plain": [
       "<AxesSubplot:xlabel='airport', ylabel='count'>"
      ]
     },
     "execution_count": 14,
     "metadata": {},
     "output_type": "execute_result"
    },
    {
     "data": {
      "image/png": "[encoded data removed]",
      "text/plain": [
       "<Figure size 432x288 with 1 Axes>"
      ]
     },
     "metadata": {
      "needs_background": "light"
     },
     "output_type": "display_data"
    }
   ],
   "source": [
    "sn.countplot(x='airport', data=df)"
   ]
  },
  {
   "cell_type": "code",
   "execution_count": 15,
   "id": "b0e11dca",
   "metadata": {},
   "outputs": [
    {
     "data": {
      "text/plain": [
       "<AxesSubplot:xlabel='waterbody', ylabel='count'>"
      ]
     },
     "execution_count": 15,
     "metadata": {},
     "output_type": "execute_result"
    },
    {
     "data": {
      "image/png": "[encoded data removed]",
      "text/plain": [
       "<Figure size 432x288 with 1 Axes>"
      ]
     },
     "metadata": {
      "needs_background": "light"
     },
     "output_type": "display_data"
    }
   ],
   "source": [
    "sn.countplot(x='waterbody', data=df)"
   ]
  },
  {
   "cell_type": "code",
   "execution_count": 16,
   "id": "f7bb7b99",
   "metadata": {},
   "outputs": [
    {
     "data": {
      "text/plain": [
       "<AxesSubplot:xlabel='bus_ter', ylabel='count'>"
      ]
     },
     "execution_count": 16,
     "metadata": {},
     "output_type": "execute_result"
    },
    {
     "data": {
      "image/png": "[encoded data removed]",
      "text/plain": [
       "<Figure size 432x288 with 1 Axes>"
      ]
     },
     "metadata": {
      "needs_background": "light"
     },
     "output_type": "display_data"
    }
   ],
   "source": [
    "sn.countplot(x='bus_ter', data=df)"
   ]
  },
  {
   "cell_type": "markdown",
   "id": "af3a6f7c",
   "metadata": {},
   "source": [
    "Here bus_ter has only one class. So change in outcome is not affected by this predictor according to this dataset.\n",
    "Now, there may be some bias while selecting the data for the sample but we can assume that this variable doesn't make that much impact even in the population.\n",
    "#### Dropping the variable"
   ]
  },
  {
   "cell_type": "code",
   "execution_count": 17,
   "id": "d0195536",
   "metadata": {},
   "outputs": [],
   "source": [
    "df.drop('bus_ter', axis=1, inplace=True)"
   ]
  },
  {
   "cell_type": "markdown",
   "id": "787376f9",
   "metadata": {},
   "source": [
    "#### Creating dummy variables for the categorical data\n",
    "Now this may not be necessary for classification models like decision tree but to compare them with the linear models, it is necessary."
   ]
  },
  {
   "cell_type": "code",
   "execution_count": 18,
   "id": "bac1c776",
   "metadata": {},
   "outputs": [
    {
     "data": {
      "text/html": [
       "<div>\n",
       "<style scoped>\n",
       "    .dataframe tbody tr th:only-of-type {\n",
       "        vertical-align: middle;\n",
       "    }\n",
       "\n",
       "    .dataframe tbody tr th {\n",
       "        vertical-align: top;\n",
       "    }\n",
       "\n",
       "    .dataframe thead th {\n",
       "        text-align: right;\n",
       "    }\n",
       "</style>\n",
       "<table border=\"1\" class=\"dataframe\">\n",
       "  <thead>\n",
       "    <tr style=\"text-align: right;\">\n",
       "      <th></th>\n",
       "      <th>price</th>\n",
       "      <th>resid_area</th>\n",
       "      <th>air_qual</th>\n",
       "      <th>room_num</th>\n",
       "      <th>age</th>\n",
       "      <th>dist1</th>\n",
       "      <th>dist2</th>\n",
       "      <th>dist3</th>\n",
       "      <th>dist4</th>\n",
       "      <th>teachers</th>\n",
       "      <th>poor_prop</th>\n",
       "      <th>n_hos_beds</th>\n",
       "      <th>n_hot_rooms</th>\n",
       "      <th>rainfall</th>\n",
       "      <th>parks</th>\n",
       "      <th>Sold</th>\n",
       "      <th>airport_YES</th>\n",
       "      <th>waterbody_Lake and River</th>\n",
       "      <th>waterbody_None</th>\n",
       "      <th>waterbody_River</th>\n",
       "    </tr>\n",
       "  </thead>\n",
       "  <tbody>\n",
       "    <tr>\n",
       "      <th>0</th>\n",
       "      <td>24.0</td>\n",
       "      <td>32.31</td>\n",
       "      <td>0.538</td>\n",
       "      <td>6.575</td>\n",
       "      <td>65.2</td>\n",
       "      <td>4.35</td>\n",
       "      <td>3.81</td>\n",
       "      <td>4.18</td>\n",
       "      <td>4.01</td>\n",
       "      <td>24.7</td>\n",
       "      <td>4.98</td>\n",
       "      <td>5.480</td>\n",
       "      <td>11.19200</td>\n",
       "      <td>23</td>\n",
       "      <td>0.049347</td>\n",
       "      <td>0</td>\n",
       "      <td>1</td>\n",
       "      <td>0</td>\n",
       "      <td>0</td>\n",
       "      <td>1</td>\n",
       "    </tr>\n",
       "    <tr>\n",
       "      <th>1</th>\n",
       "      <td>21.6</td>\n",
       "      <td>37.07</td>\n",
       "      <td>0.469</td>\n",
       "      <td>6.421</td>\n",
       "      <td>78.9</td>\n",
       "      <td>4.99</td>\n",
       "      <td>4.70</td>\n",
       "      <td>5.12</td>\n",
       "      <td>5.06</td>\n",
       "      <td>22.2</td>\n",
       "      <td>9.14</td>\n",
       "      <td>7.332</td>\n",
       "      <td>12.17280</td>\n",
       "      <td>42</td>\n",
       "      <td>0.046146</td>\n",
       "      <td>1</td>\n",
       "      <td>0</td>\n",
       "      <td>0</td>\n",
       "      <td>0</td>\n",
       "      <td>0</td>\n",
       "    </tr>\n",
       "    <tr>\n",
       "      <th>2</th>\n",
       "      <td>34.7</td>\n",
       "      <td>37.07</td>\n",
       "      <td>0.469</td>\n",
       "      <td>7.185</td>\n",
       "      <td>61.1</td>\n",
       "      <td>5.03</td>\n",
       "      <td>4.86</td>\n",
       "      <td>5.01</td>\n",
       "      <td>4.97</td>\n",
       "      <td>22.2</td>\n",
       "      <td>4.03</td>\n",
       "      <td>7.394</td>\n",
       "      <td>46.19856</td>\n",
       "      <td>38</td>\n",
       "      <td>0.045764</td>\n",
       "      <td>0</td>\n",
       "      <td>0</td>\n",
       "      <td>0</td>\n",
       "      <td>1</td>\n",
       "      <td>0</td>\n",
       "    </tr>\n",
       "    <tr>\n",
       "      <th>3</th>\n",
       "      <td>33.4</td>\n",
       "      <td>32.18</td>\n",
       "      <td>0.458</td>\n",
       "      <td>6.998</td>\n",
       "      <td>45.8</td>\n",
       "      <td>6.21</td>\n",
       "      <td>5.93</td>\n",
       "      <td>6.16</td>\n",
       "      <td>5.96</td>\n",
       "      <td>21.3</td>\n",
       "      <td>2.94</td>\n",
       "      <td>9.268</td>\n",
       "      <td>11.26720</td>\n",
       "      <td>45</td>\n",
       "      <td>0.047151</td>\n",
       "      <td>0</td>\n",
       "      <td>1</td>\n",
       "      <td>0</td>\n",
       "      <td>0</td>\n",
       "      <td>0</td>\n",
       "    </tr>\n",
       "    <tr>\n",
       "      <th>4</th>\n",
       "      <td>36.2</td>\n",
       "      <td>32.18</td>\n",
       "      <td>0.458</td>\n",
       "      <td>7.147</td>\n",
       "      <td>54.2</td>\n",
       "      <td>6.16</td>\n",
       "      <td>5.86</td>\n",
       "      <td>6.37</td>\n",
       "      <td>5.86</td>\n",
       "      <td>21.3</td>\n",
       "      <td>5.33</td>\n",
       "      <td>8.824</td>\n",
       "      <td>11.28960</td>\n",
       "      <td>55</td>\n",
       "      <td>0.039474</td>\n",
       "      <td>0</td>\n",
       "      <td>0</td>\n",
       "      <td>0</td>\n",
       "      <td>0</td>\n",
       "      <td>0</td>\n",
       "    </tr>\n",
       "    <tr>\n",
       "      <th>...</th>\n",
       "      <td>...</td>\n",
       "      <td>...</td>\n",
       "      <td>...</td>\n",
       "      <td>...</td>\n",
       "      <td>...</td>\n",
       "      <td>...</td>\n",
       "      <td>...</td>\n",
       "      <td>...</td>\n",
       "      <td>...</td>\n",
       "      <td>...</td>\n",
       "      <td>...</td>\n",
       "      <td>...</td>\n",
       "      <td>...</td>\n",
       "      <td>...</td>\n",
       "      <td>...</td>\n",
       "      <td>...</td>\n",
       "      <td>...</td>\n",
       "      <td>...</td>\n",
       "      <td>...</td>\n",
       "      <td>...</td>\n",
       "    </tr>\n",
       "    <tr>\n",
       "      <th>501</th>\n",
       "      <td>22.4</td>\n",
       "      <td>41.93</td>\n",
       "      <td>0.573</td>\n",
       "      <td>6.593</td>\n",
       "      <td>69.1</td>\n",
       "      <td>2.64</td>\n",
       "      <td>2.45</td>\n",
       "      <td>2.76</td>\n",
       "      <td>2.06</td>\n",
       "      <td>19.0</td>\n",
       "      <td>9.67</td>\n",
       "      <td>9.348</td>\n",
       "      <td>12.17920</td>\n",
       "      <td>27</td>\n",
       "      <td>0.056006</td>\n",
       "      <td>1</td>\n",
       "      <td>0</td>\n",
       "      <td>1</td>\n",
       "      <td>0</td>\n",
       "      <td>0</td>\n",
       "    </tr>\n",
       "    <tr>\n",
       "      <th>502</th>\n",
       "      <td>20.6</td>\n",
       "      <td>41.93</td>\n",
       "      <td>0.573</td>\n",
       "      <td>6.120</td>\n",
       "      <td>76.7</td>\n",
       "      <td>2.44</td>\n",
       "      <td>2.11</td>\n",
       "      <td>2.46</td>\n",
       "      <td>2.14</td>\n",
       "      <td>19.0</td>\n",
       "      <td>9.08</td>\n",
       "      <td>6.612</td>\n",
       "      <td>13.16480</td>\n",
       "      <td>20</td>\n",
       "      <td>0.059903</td>\n",
       "      <td>1</td>\n",
       "      <td>1</td>\n",
       "      <td>1</td>\n",
       "      <td>0</td>\n",
       "      <td>0</td>\n",
       "    </tr>\n",
       "    <tr>\n",
       "      <th>503</th>\n",
       "      <td>23.9</td>\n",
       "      <td>41.93</td>\n",
       "      <td>0.573</td>\n",
       "      <td>6.976</td>\n",
       "      <td>91.0</td>\n",
       "      <td>2.34</td>\n",
       "      <td>2.06</td>\n",
       "      <td>2.29</td>\n",
       "      <td>1.98</td>\n",
       "      <td>19.0</td>\n",
       "      <td>5.64</td>\n",
       "      <td>5.478</td>\n",
       "      <td>12.19120</td>\n",
       "      <td>31</td>\n",
       "      <td>0.057572</td>\n",
       "      <td>1</td>\n",
       "      <td>0</td>\n",
       "      <td>0</td>\n",
       "      <td>1</td>\n",
       "      <td>0</td>\n",
       "    </tr>\n",
       "    <tr>\n",
       "      <th>504</th>\n",
       "      <td>22.0</td>\n",
       "      <td>41.93</td>\n",
       "      <td>0.573</td>\n",
       "      <td>6.794</td>\n",
       "      <td>89.3</td>\n",
       "      <td>2.54</td>\n",
       "      <td>2.31</td>\n",
       "      <td>2.40</td>\n",
       "      <td>2.31</td>\n",
       "      <td>19.0</td>\n",
       "      <td>6.48</td>\n",
       "      <td>7.940</td>\n",
       "      <td>15.17600</td>\n",
       "      <td>47</td>\n",
       "      <td>0.060694</td>\n",
       "      <td>1</td>\n",
       "      <td>1</td>\n",
       "      <td>0</td>\n",
       "      <td>1</td>\n",
       "      <td>0</td>\n",
       "    </tr>\n",
       "    <tr>\n",
       "      <th>505</th>\n",
       "      <td>19.0</td>\n",
       "      <td>41.93</td>\n",
       "      <td>0.573</td>\n",
       "      <td>6.030</td>\n",
       "      <td>80.8</td>\n",
       "      <td>2.72</td>\n",
       "      <td>2.24</td>\n",
       "      <td>2.64</td>\n",
       "      <td>2.42</td>\n",
       "      <td>19.0</td>\n",
       "      <td>7.88</td>\n",
       "      <td>10.280</td>\n",
       "      <td>10.15200</td>\n",
       "      <td>45</td>\n",
       "      <td>0.060336</td>\n",
       "      <td>1</td>\n",
       "      <td>1</td>\n",
       "      <td>0</td>\n",
       "      <td>1</td>\n",
       "      <td>0</td>\n",
       "    </tr>\n",
       "  </tbody>\n",
       "</table>\n",
       "<p>506 rows × 20 columns</p>\n",
       "</div>"
      ],
      "text/plain": [
       "     price  resid_area  air_qual  room_num   age  dist1  dist2  dist3  dist4  \\\n",
       "0     24.0       32.31     0.538     6.575  65.2   4.35   3.81   4.18   4.01   \n",
       "1     21.6       37.07     0.469     6.421  78.9   4.99   4.70   5.12   5.06   \n",
       "2     34.7       37.07     0.469     7.185  61.1   5.03   4.86   5.01   4.97   \n",
       "3     33.4       32.18     0.458     6.998  45.8   6.21   5.93   6.16   5.96   \n",
       "4     36.2       32.18     0.458     7.147  54.2   6.16   5.86   6.37   5.86   \n",
       "..     ...         ...       ...       ...   ...    ...    ...    ...    ...   \n",
       "501   22.4       41.93     0.573     6.593  69.1   2.64   2.45   2.76   2.06   \n",
       "502   20.6       41.93     0.573     6.120  76.7   2.44   2.11   2.46   2.14   \n",
       "503   23.9       41.93     0.573     6.976  91.0   2.34   2.06   2.29   1.98   \n",
       "504   22.0       41.93     0.573     6.794  89.3   2.54   2.31   2.40   2.31   \n",
       "505   19.0       41.93     0.573     6.030  80.8   2.72   2.24   2.64   2.42   \n",
       "\n",
       "     teachers  poor_prop  n_hos_beds  n_hot_rooms  rainfall     parks  Sold  \\\n",
       "0        24.7       4.98       5.480     11.19200        23  0.049347     0   \n",
       "1        22.2       9.14       7.332     12.17280        42  0.046146     1   \n",
       "2        22.2       4.03       7.394     46.19856        38  0.045764     0   \n",
       "3        21.3       2.94       9.268     11.26720        45  0.047151     0   \n",
       "4        21.3       5.33       8.824     11.28960        55  0.039474     0   \n",
       "..        ...        ...         ...          ...       ...       ...   ...   \n",
       "501      19.0       9.67       9.348     12.17920        27  0.056006     1   \n",
       "502      19.0       9.08       6.612     13.16480        20  0.059903     1   \n",
       "503      19.0       5.64       5.478     12.19120        31  0.057572     1   \n",
       "504      19.0       6.48       7.940     15.17600        47  0.060694     1   \n",
       "505      19.0       7.88      10.280     10.15200        45  0.060336     1   \n",
       "\n",
       "     airport_YES  waterbody_Lake and River  waterbody_None  waterbody_River  \n",
       "0              1                         0               0                1  \n",
       "1              0                         0               0                0  \n",
       "2              0                         0               1                0  \n",
       "3              1                         0               0                0  \n",
       "4              0                         0               0                0  \n",
       "..           ...                       ...             ...              ...  \n",
       "501            0                         1               0                0  \n",
       "502            1                         1               0                0  \n",
       "503            0                         0               1                0  \n",
       "504            1                         0               1                0  \n",
       "505            1                         0               1                0  \n",
       "\n",
       "[506 rows x 20 columns]"
      ]
     },
     "execution_count": 18,
     "metadata": {},
     "output_type": "execute_result"
    }
   ],
   "source": [
    "pd.get_dummies(df, drop_first=True)"
   ]
  },
  {
   "cell_type": "markdown",
   "id": "c9f5939b",
   "metadata": {},
   "source": [
    "#### Separating the dependent and independent variables"
   ]
  },
  {
   "cell_type": "code",
   "execution_count": 19,
   "id": "d99cd1e8",
   "metadata": {},
   "outputs": [],
   "source": [
    "X = pd.get_dummies(df, drop_first=True).drop('Sold', axis=1)"
   ]
  },
  {
   "cell_type": "code",
   "execution_count": 20,
   "id": "eb50930f",
   "metadata": {},
   "outputs": [
    {
     "data": {
      "text/html": [
       "<div>\n",
       "<style scoped>\n",
       "    .dataframe tbody tr th:only-of-type {\n",
       "        vertical-align: middle;\n",
       "    }\n",
       "\n",
       "    .dataframe tbody tr th {\n",
       "        vertical-align: top;\n",
       "    }\n",
       "\n",
       "    .dataframe thead th {\n",
       "        text-align: right;\n",
       "    }\n",
       "</style>\n",
       "<table border=\"1\" class=\"dataframe\">\n",
       "  <thead>\n",
       "    <tr style=\"text-align: right;\">\n",
       "      <th></th>\n",
       "      <th>price</th>\n",
       "      <th>resid_area</th>\n",
       "      <th>air_qual</th>\n",
       "      <th>room_num</th>\n",
       "      <th>age</th>\n",
       "      <th>dist1</th>\n",
       "      <th>dist2</th>\n",
       "      <th>dist3</th>\n",
       "      <th>dist4</th>\n",
       "      <th>teachers</th>\n",
       "      <th>poor_prop</th>\n",
       "      <th>n_hos_beds</th>\n",
       "      <th>n_hot_rooms</th>\n",
       "      <th>rainfall</th>\n",
       "      <th>parks</th>\n",
       "      <th>airport_YES</th>\n",
       "      <th>waterbody_Lake and River</th>\n",
       "      <th>waterbody_None</th>\n",
       "      <th>waterbody_River</th>\n",
       "    </tr>\n",
       "  </thead>\n",
       "  <tbody>\n",
       "    <tr>\n",
       "      <th>0</th>\n",
       "      <td>24.0</td>\n",
       "      <td>32.31</td>\n",
       "      <td>0.538</td>\n",
       "      <td>6.575</td>\n",
       "      <td>65.2</td>\n",
       "      <td>4.35</td>\n",
       "      <td>3.81</td>\n",
       "      <td>4.18</td>\n",
       "      <td>4.01</td>\n",
       "      <td>24.7</td>\n",
       "      <td>4.98</td>\n",
       "      <td>5.480</td>\n",
       "      <td>11.19200</td>\n",
       "      <td>23</td>\n",
       "      <td>0.049347</td>\n",
       "      <td>1</td>\n",
       "      <td>0</td>\n",
       "      <td>0</td>\n",
       "      <td>1</td>\n",
       "    </tr>\n",
       "    <tr>\n",
       "      <th>1</th>\n",
       "      <td>21.6</td>\n",
       "      <td>37.07</td>\n",
       "      <td>0.469</td>\n",
       "      <td>6.421</td>\n",
       "      <td>78.9</td>\n",
       "      <td>4.99</td>\n",
       "      <td>4.70</td>\n",
       "      <td>5.12</td>\n",
       "      <td>5.06</td>\n",
       "      <td>22.2</td>\n",
       "      <td>9.14</td>\n",
       "      <td>7.332</td>\n",
       "      <td>12.17280</td>\n",
       "      <td>42</td>\n",
       "      <td>0.046146</td>\n",
       "      <td>0</td>\n",
       "      <td>0</td>\n",
       "      <td>0</td>\n",
       "      <td>0</td>\n",
       "    </tr>\n",
       "    <tr>\n",
       "      <th>2</th>\n",
       "      <td>34.7</td>\n",
       "      <td>37.07</td>\n",
       "      <td>0.469</td>\n",
       "      <td>7.185</td>\n",
       "      <td>61.1</td>\n",
       "      <td>5.03</td>\n",
       "      <td>4.86</td>\n",
       "      <td>5.01</td>\n",
       "      <td>4.97</td>\n",
       "      <td>22.2</td>\n",
       "      <td>4.03</td>\n",
       "      <td>7.394</td>\n",
       "      <td>46.19856</td>\n",
       "      <td>38</td>\n",
       "      <td>0.045764</td>\n",
       "      <td>0</td>\n",
       "      <td>0</td>\n",
       "      <td>1</td>\n",
       "      <td>0</td>\n",
       "    </tr>\n",
       "    <tr>\n",
       "      <th>3</th>\n",
       "      <td>33.4</td>\n",
       "      <td>32.18</td>\n",
       "      <td>0.458</td>\n",
       "      <td>6.998</td>\n",
       "      <td>45.8</td>\n",
       "      <td>6.21</td>\n",
       "      <td>5.93</td>\n",
       "      <td>6.16</td>\n",
       "      <td>5.96</td>\n",
       "      <td>21.3</td>\n",
       "      <td>2.94</td>\n",
       "      <td>9.268</td>\n",
       "      <td>11.26720</td>\n",
       "      <td>45</td>\n",
       "      <td>0.047151</td>\n",
       "      <td>1</td>\n",
       "      <td>0</td>\n",
       "      <td>0</td>\n",
       "      <td>0</td>\n",
       "    </tr>\n",
       "    <tr>\n",
       "      <th>4</th>\n",
       "      <td>36.2</td>\n",
       "      <td>32.18</td>\n",
       "      <td>0.458</td>\n",
       "      <td>7.147</td>\n",
       "      <td>54.2</td>\n",
       "      <td>6.16</td>\n",
       "      <td>5.86</td>\n",
       "      <td>6.37</td>\n",
       "      <td>5.86</td>\n",
       "      <td>21.3</td>\n",
       "      <td>5.33</td>\n",
       "      <td>8.824</td>\n",
       "      <td>11.28960</td>\n",
       "      <td>55</td>\n",
       "      <td>0.039474</td>\n",
       "      <td>0</td>\n",
       "      <td>0</td>\n",
       "      <td>0</td>\n",
       "      <td>0</td>\n",
       "    </tr>\n",
       "    <tr>\n",
       "      <th>...</th>\n",
       "      <td>...</td>\n",
       "      <td>...</td>\n",
       "      <td>...</td>\n",
       "      <td>...</td>\n",
       "      <td>...</td>\n",
       "      <td>...</td>\n",
       "      <td>...</td>\n",
       "      <td>...</td>\n",
       "      <td>...</td>\n",
       "      <td>...</td>\n",
       "      <td>...</td>\n",
       "      <td>...</td>\n",
       "      <td>...</td>\n",
       "      <td>...</td>\n",
       "      <td>...</td>\n",
       "      <td>...</td>\n",
       "      <td>...</td>\n",
       "      <td>...</td>\n",
       "      <td>...</td>\n",
       "    </tr>\n",
       "    <tr>\n",
       "      <th>501</th>\n",
       "      <td>22.4</td>\n",
       "      <td>41.93</td>\n",
       "      <td>0.573</td>\n",
       "      <td>6.593</td>\n",
       "      <td>69.1</td>\n",
       "      <td>2.64</td>\n",
       "      <td>2.45</td>\n",
       "      <td>2.76</td>\n",
       "      <td>2.06</td>\n",
       "      <td>19.0</td>\n",
       "      <td>9.67</td>\n",
       "      <td>9.348</td>\n",
       "      <td>12.17920</td>\n",
       "      <td>27</td>\n",
       "      <td>0.056006</td>\n",
       "      <td>0</td>\n",
       "      <td>1</td>\n",
       "      <td>0</td>\n",
       "      <td>0</td>\n",
       "    </tr>\n",
       "    <tr>\n",
       "      <th>502</th>\n",
       "      <td>20.6</td>\n",
       "      <td>41.93</td>\n",
       "      <td>0.573</td>\n",
       "      <td>6.120</td>\n",
       "      <td>76.7</td>\n",
       "      <td>2.44</td>\n",
       "      <td>2.11</td>\n",
       "      <td>2.46</td>\n",
       "      <td>2.14</td>\n",
       "      <td>19.0</td>\n",
       "      <td>9.08</td>\n",
       "      <td>6.612</td>\n",
       "      <td>13.16480</td>\n",
       "      <td>20</td>\n",
       "      <td>0.059903</td>\n",
       "      <td>1</td>\n",
       "      <td>1</td>\n",
       "      <td>0</td>\n",
       "      <td>0</td>\n",
       "    </tr>\n",
       "    <tr>\n",
       "      <th>503</th>\n",
       "      <td>23.9</td>\n",
       "      <td>41.93</td>\n",
       "      <td>0.573</td>\n",
       "      <td>6.976</td>\n",
       "      <td>91.0</td>\n",
       "      <td>2.34</td>\n",
       "      <td>2.06</td>\n",
       "      <td>2.29</td>\n",
       "      <td>1.98</td>\n",
       "      <td>19.0</td>\n",
       "      <td>5.64</td>\n",
       "      <td>5.478</td>\n",
       "      <td>12.19120</td>\n",
       "      <td>31</td>\n",
       "      <td>0.057572</td>\n",
       "      <td>0</td>\n",
       "      <td>0</td>\n",
       "      <td>1</td>\n",
       "      <td>0</td>\n",
       "    </tr>\n",
       "    <tr>\n",
       "      <th>504</th>\n",
       "      <td>22.0</td>\n",
       "      <td>41.93</td>\n",
       "      <td>0.573</td>\n",
       "      <td>6.794</td>\n",
       "      <td>89.3</td>\n",
       "      <td>2.54</td>\n",
       "      <td>2.31</td>\n",
       "      <td>2.40</td>\n",
       "      <td>2.31</td>\n",
       "      <td>19.0</td>\n",
       "      <td>6.48</td>\n",
       "      <td>7.940</td>\n",
       "      <td>15.17600</td>\n",
       "      <td>47</td>\n",
       "      <td>0.060694</td>\n",
       "      <td>1</td>\n",
       "      <td>0</td>\n",
       "      <td>1</td>\n",
       "      <td>0</td>\n",
       "    </tr>\n",
       "    <tr>\n",
       "      <th>505</th>\n",
       "      <td>19.0</td>\n",
       "      <td>41.93</td>\n",
       "      <td>0.573</td>\n",
       "      <td>6.030</td>\n",
       "      <td>80.8</td>\n",
       "      <td>2.72</td>\n",
       "      <td>2.24</td>\n",
       "      <td>2.64</td>\n",
       "      <td>2.42</td>\n",
       "      <td>19.0</td>\n",
       "      <td>7.88</td>\n",
       "      <td>10.280</td>\n",
       "      <td>10.15200</td>\n",
       "      <td>45</td>\n",
       "      <td>0.060336</td>\n",
       "      <td>1</td>\n",
       "      <td>0</td>\n",
       "      <td>1</td>\n",
       "      <td>0</td>\n",
       "    </tr>\n",
       "  </tbody>\n",
       "</table>\n",
       "<p>506 rows × 19 columns</p>\n",
       "</div>"
      ],
      "text/plain": [
       "     price  resid_area  air_qual  room_num   age  dist1  dist2  dist3  dist4  \\\n",
       "0     24.0       32.31     0.538     6.575  65.2   4.35   3.81   4.18   4.01   \n",
       "1     21.6       37.07     0.469     6.421  78.9   4.99   4.70   5.12   5.06   \n",
       "2     34.7       37.07     0.469     7.185  61.1   5.03   4.86   5.01   4.97   \n",
       "3     33.4       32.18     0.458     6.998  45.8   6.21   5.93   6.16   5.96   \n",
       "4     36.2       32.18     0.458     7.147  54.2   6.16   5.86   6.37   5.86   \n",
       "..     ...         ...       ...       ...   ...    ...    ...    ...    ...   \n",
       "501   22.4       41.93     0.573     6.593  69.1   2.64   2.45   2.76   2.06   \n",
       "502   20.6       41.93     0.573     6.120  76.7   2.44   2.11   2.46   2.14   \n",
       "503   23.9       41.93     0.573     6.976  91.0   2.34   2.06   2.29   1.98   \n",
       "504   22.0       41.93     0.573     6.794  89.3   2.54   2.31   2.40   2.31   \n",
       "505   19.0       41.93     0.573     6.030  80.8   2.72   2.24   2.64   2.42   \n",
       "\n",
       "     teachers  poor_prop  n_hos_beds  n_hot_rooms  rainfall     parks  \\\n",
       "0        24.7       4.98       5.480     11.19200        23  0.049347   \n",
       "1        22.2       9.14       7.332     12.17280        42  0.046146   \n",
       "2        22.2       4.03       7.394     46.19856        38  0.045764   \n",
       "3        21.3       2.94       9.268     11.26720        45  0.047151   \n",
       "4        21.3       5.33       8.824     11.28960        55  0.039474   \n",
       "..        ...        ...         ...          ...       ...       ...   \n",
       "501      19.0       9.67       9.348     12.17920        27  0.056006   \n",
       "502      19.0       9.08       6.612     13.16480        20  0.059903   \n",
       "503      19.0       5.64       5.478     12.19120        31  0.057572   \n",
       "504      19.0       6.48       7.940     15.17600        47  0.060694   \n",
       "505      19.0       7.88      10.280     10.15200        45  0.060336   \n",
       "\n",
       "     airport_YES  waterbody_Lake and River  waterbody_None  waterbody_River  \n",
       "0              1                         0               0                1  \n",
       "1              0                         0               0                0  \n",
       "2              0                         0               1                0  \n",
       "3              1                         0               0                0  \n",
       "4              0                         0               0                0  \n",
       "..           ...                       ...             ...              ...  \n",
       "501            0                         1               0                0  \n",
       "502            1                         1               0                0  \n",
       "503            0                         0               1                0  \n",
       "504            1                         0               1                0  \n",
       "505            1                         0               1                0  \n",
       "\n",
       "[506 rows x 19 columns]"
      ]
     },
     "execution_count": 20,
     "metadata": {},
     "output_type": "execute_result"
    }
   ],
   "source": [
    "X"
   ]
  },
  {
   "cell_type": "code",
   "execution_count": 21,
   "id": "e69da8cb",
   "metadata": {},
   "outputs": [],
   "source": [
    "Y = df.Sold"
   ]
  },
  {
   "cell_type": "markdown",
   "id": "4b77de96",
   "metadata": {},
   "source": [
    "#### Checking for correlations in X\n",
    "Correlations in data occur when one predictor variable is dependent on other. This decreases the model accuracy."
   ]
  },
  {
   "cell_type": "code",
   "execution_count": 22,
   "id": "a1d95d1b",
   "metadata": {},
   "outputs": [
    {
     "data": {
      "text/html": [
       "<div>\n",
       "<style scoped>\n",
       "    .dataframe tbody tr th:only-of-type {\n",
       "        vertical-align: middle;\n",
       "    }\n",
       "\n",
       "    .dataframe tbody tr th {\n",
       "        vertical-align: top;\n",
       "    }\n",
       "\n",
       "    .dataframe thead th {\n",
       "        text-align: right;\n",
       "    }\n",
       "</style>\n",
       "<table border=\"1\" class=\"dataframe\">\n",
       "  <thead>\n",
       "    <tr style=\"text-align: right;\">\n",
       "      <th></th>\n",
       "      <th>price</th>\n",
       "      <th>resid_area</th>\n",
       "      <th>air_qual</th>\n",
       "      <th>room_num</th>\n",
       "      <th>age</th>\n",
       "      <th>dist1</th>\n",
       "      <th>dist2</th>\n",
       "      <th>dist3</th>\n",
       "      <th>dist4</th>\n",
       "      <th>teachers</th>\n",
       "      <th>poor_prop</th>\n",
       "      <th>n_hos_beds</th>\n",
       "      <th>n_hot_rooms</th>\n",
       "      <th>rainfall</th>\n",
       "      <th>parks</th>\n",
       "      <th>Sold</th>\n",
       "    </tr>\n",
       "  </thead>\n",
       "  <tbody>\n",
       "    <tr>\n",
       "      <th>price</th>\n",
       "      <td>1.000000</td>\n",
       "      <td>-0.484754</td>\n",
       "      <td>-0.429300</td>\n",
       "      <td>0.696304</td>\n",
       "      <td>-0.377999</td>\n",
       "      <td>0.251355</td>\n",
       "      <td>0.249459</td>\n",
       "      <td>0.246650</td>\n",
       "      <td>0.248200</td>\n",
       "      <td>0.505655</td>\n",
       "      <td>-0.740836</td>\n",
       "      <td>0.108880</td>\n",
       "      <td>0.017007</td>\n",
       "      <td>-0.047200</td>\n",
       "      <td>-0.391574</td>\n",
       "      <td>-0.154698</td>\n",
       "    </tr>\n",
       "    <tr>\n",
       "      <th>resid_area</th>\n",
       "      <td>-0.484754</td>\n",
       "      <td>1.000000</td>\n",
       "      <td>0.763651</td>\n",
       "      <td>-0.391676</td>\n",
       "      <td>0.644779</td>\n",
       "      <td>-0.706481</td>\n",
       "      <td>-0.707956</td>\n",
       "      <td>-0.707566</td>\n",
       "      <td>-0.705819</td>\n",
       "      <td>-0.383248</td>\n",
       "      <td>0.603800</td>\n",
       "      <td>0.005799</td>\n",
       "      <td>-0.003761</td>\n",
       "      <td>0.055845</td>\n",
       "      <td>0.707635</td>\n",
       "      <td>0.024404</td>\n",
       "    </tr>\n",
       "    <tr>\n",
       "      <th>air_qual</th>\n",
       "      <td>-0.429300</td>\n",
       "      <td>0.763651</td>\n",
       "      <td>1.000000</td>\n",
       "      <td>-0.302188</td>\n",
       "      <td>0.731470</td>\n",
       "      <td>-0.768589</td>\n",
       "      <td>-0.769724</td>\n",
       "      <td>-0.769157</td>\n",
       "      <td>-0.764873</td>\n",
       "      <td>-0.188933</td>\n",
       "      <td>0.590879</td>\n",
       "      <td>-0.049553</td>\n",
       "      <td>0.007238</td>\n",
       "      <td>0.091956</td>\n",
       "      <td>0.915544</td>\n",
       "      <td>-0.004017</td>\n",
       "    </tr>\n",
       "    <tr>\n",
       "      <th>room_num</th>\n",
       "      <td>0.696304</td>\n",
       "      <td>-0.391676</td>\n",
       "      <td>-0.302188</td>\n",
       "      <td>1.000000</td>\n",
       "      <td>-0.240265</td>\n",
       "      <td>0.208464</td>\n",
       "      <td>0.203981</td>\n",
       "      <td>0.201907</td>\n",
       "      <td>0.205397</td>\n",
       "      <td>0.355501</td>\n",
       "      <td>-0.613808</td>\n",
       "      <td>0.032009</td>\n",
       "      <td>0.014583</td>\n",
       "      <td>-0.064718</td>\n",
       "      <td>-0.282817</td>\n",
       "      <td>0.027148</td>\n",
       "    </tr>\n",
       "    <tr>\n",
       "      <th>age</th>\n",
       "      <td>-0.377999</td>\n",
       "      <td>0.644779</td>\n",
       "      <td>0.731470</td>\n",
       "      <td>-0.240265</td>\n",
       "      <td>1.000000</td>\n",
       "      <td>-0.746904</td>\n",
       "      <td>-0.746493</td>\n",
       "      <td>-0.747021</td>\n",
       "      <td>-0.746707</td>\n",
       "      <td>-0.261515</td>\n",
       "      <td>0.602339</td>\n",
       "      <td>-0.021012</td>\n",
       "      <td>0.013918</td>\n",
       "      <td>0.074684</td>\n",
       "      <td>0.673850</td>\n",
       "      <td>-0.016291</td>\n",
       "    </tr>\n",
       "    <tr>\n",
       "      <th>dist1</th>\n",
       "      <td>0.251355</td>\n",
       "      <td>-0.706481</td>\n",
       "      <td>-0.768589</td>\n",
       "      <td>0.208464</td>\n",
       "      <td>-0.746904</td>\n",
       "      <td>1.000000</td>\n",
       "      <td>0.997905</td>\n",
       "      <td>0.997735</td>\n",
       "      <td>0.994073</td>\n",
       "      <td>0.232834</td>\n",
       "      <td>-0.498823</td>\n",
       "      <td>-0.030365</td>\n",
       "      <td>-0.025398</td>\n",
       "      <td>-0.036812</td>\n",
       "      <td>-0.706319</td>\n",
       "      <td>-0.035309</td>\n",
       "    </tr>\n",
       "    <tr>\n",
       "      <th>dist2</th>\n",
       "      <td>0.249459</td>\n",
       "      <td>-0.707956</td>\n",
       "      <td>-0.769724</td>\n",
       "      <td>0.203981</td>\n",
       "      <td>-0.746493</td>\n",
       "      <td>0.997905</td>\n",
       "      <td>1.000000</td>\n",
       "      <td>0.998097</td>\n",
       "      <td>0.994003</td>\n",
       "      <td>0.233707</td>\n",
       "      <td>-0.495693</td>\n",
       "      <td>-0.031071</td>\n",
       "      <td>-0.021263</td>\n",
       "      <td>-0.037990</td>\n",
       "      <td>-0.708237</td>\n",
       "      <td>-0.040356</td>\n",
       "    </tr>\n",
       "    <tr>\n",
       "      <th>dist3</th>\n",
       "      <td>0.246650</td>\n",
       "      <td>-0.707566</td>\n",
       "      <td>-0.769157</td>\n",
       "      <td>0.201907</td>\n",
       "      <td>-0.747021</td>\n",
       "      <td>0.997735</td>\n",
       "      <td>0.998097</td>\n",
       "      <td>1.000000</td>\n",
       "      <td>0.994126</td>\n",
       "      <td>0.233588</td>\n",
       "      <td>-0.494290</td>\n",
       "      <td>-0.028315</td>\n",
       "      <td>-0.019994</td>\n",
       "      <td>-0.041475</td>\n",
       "      <td>-0.709346</td>\n",
       "      <td>-0.035768</td>\n",
       "    </tr>\n",
       "    <tr>\n",
       "      <th>dist4</th>\n",
       "      <td>0.248200</td>\n",
       "      <td>-0.705819</td>\n",
       "      <td>-0.764873</td>\n",
       "      <td>0.205397</td>\n",
       "      <td>-0.746707</td>\n",
       "      <td>0.994073</td>\n",
       "      <td>0.994003</td>\n",
       "      <td>0.994126</td>\n",
       "      <td>1.000000</td>\n",
       "      <td>0.228256</td>\n",
       "      <td>-0.496084</td>\n",
       "      <td>-0.021534</td>\n",
       "      <td>-0.016003</td>\n",
       "      <td>-0.032596</td>\n",
       "      <td>-0.703508</td>\n",
       "      <td>-0.043612</td>\n",
       "    </tr>\n",
       "    <tr>\n",
       "      <th>teachers</th>\n",
       "      <td>0.505655</td>\n",
       "      <td>-0.383248</td>\n",
       "      <td>-0.188933</td>\n",
       "      <td>0.355501</td>\n",
       "      <td>-0.261515</td>\n",
       "      <td>0.232834</td>\n",
       "      <td>0.233707</td>\n",
       "      <td>0.233588</td>\n",
       "      <td>0.228256</td>\n",
       "      <td>1.000000</td>\n",
       "      <td>-0.374044</td>\n",
       "      <td>-0.008056</td>\n",
       "      <td>-0.037007</td>\n",
       "      <td>-0.045928</td>\n",
       "      <td>-0.187004</td>\n",
       "      <td>0.042525</td>\n",
       "    </tr>\n",
       "    <tr>\n",
       "      <th>poor_prop</th>\n",
       "      <td>-0.740836</td>\n",
       "      <td>0.603800</td>\n",
       "      <td>0.590879</td>\n",
       "      <td>-0.613808</td>\n",
       "      <td>0.602339</td>\n",
       "      <td>-0.498823</td>\n",
       "      <td>-0.495693</td>\n",
       "      <td>-0.494290</td>\n",
       "      <td>-0.496084</td>\n",
       "      <td>-0.374044</td>\n",
       "      <td>1.000000</td>\n",
       "      <td>-0.066008</td>\n",
       "      <td>0.017036</td>\n",
       "      <td>0.061444</td>\n",
       "      <td>0.552310</td>\n",
       "      <td>-0.082776</td>\n",
       "    </tr>\n",
       "    <tr>\n",
       "      <th>n_hos_beds</th>\n",
       "      <td>0.108880</td>\n",
       "      <td>0.005799</td>\n",
       "      <td>-0.049553</td>\n",
       "      <td>0.032009</td>\n",
       "      <td>-0.021012</td>\n",
       "      <td>-0.030365</td>\n",
       "      <td>-0.031071</td>\n",
       "      <td>-0.028315</td>\n",
       "      <td>-0.021534</td>\n",
       "      <td>-0.008056</td>\n",
       "      <td>-0.066008</td>\n",
       "      <td>1.000000</td>\n",
       "      <td>-0.003130</td>\n",
       "      <td>0.058596</td>\n",
       "      <td>-0.071272</td>\n",
       "      <td>0.066847</td>\n",
       "    </tr>\n",
       "    <tr>\n",
       "      <th>n_hot_rooms</th>\n",
       "      <td>0.017007</td>\n",
       "      <td>-0.003761</td>\n",
       "      <td>0.007238</td>\n",
       "      <td>0.014583</td>\n",
       "      <td>0.013918</td>\n",
       "      <td>-0.025398</td>\n",
       "      <td>-0.021263</td>\n",
       "      <td>-0.019994</td>\n",
       "      <td>-0.016003</td>\n",
       "      <td>-0.037007</td>\n",
       "      <td>0.017036</td>\n",
       "      <td>-0.003130</td>\n",
       "      <td>1.000000</td>\n",
       "      <td>0.014869</td>\n",
       "      <td>0.023757</td>\n",
       "      <td>-0.090338</td>\n",
       "    </tr>\n",
       "    <tr>\n",
       "      <th>rainfall</th>\n",
       "      <td>-0.047200</td>\n",
       "      <td>0.055845</td>\n",
       "      <td>0.091956</td>\n",
       "      <td>-0.064718</td>\n",
       "      <td>0.074684</td>\n",
       "      <td>-0.036812</td>\n",
       "      <td>-0.037990</td>\n",
       "      <td>-0.041475</td>\n",
       "      <td>-0.032596</td>\n",
       "      <td>-0.045928</td>\n",
       "      <td>0.061444</td>\n",
       "      <td>0.058596</td>\n",
       "      <td>0.014869</td>\n",
       "      <td>1.000000</td>\n",
       "      <td>0.078278</td>\n",
       "      <td>-0.040114</td>\n",
       "    </tr>\n",
       "    <tr>\n",
       "      <th>parks</th>\n",
       "      <td>-0.391574</td>\n",
       "      <td>0.707635</td>\n",
       "      <td>0.915544</td>\n",
       "      <td>-0.282817</td>\n",
       "      <td>0.673850</td>\n",
       "      <td>-0.706319</td>\n",
       "      <td>-0.708237</td>\n",
       "      <td>-0.709346</td>\n",
       "      <td>-0.703508</td>\n",
       "      <td>-0.187004</td>\n",
       "      <td>0.552310</td>\n",
       "      <td>-0.071272</td>\n",
       "      <td>0.023757</td>\n",
       "      <td>0.078278</td>\n",
       "      <td>1.000000</td>\n",
       "      <td>0.004808</td>\n",
       "    </tr>\n",
       "    <tr>\n",
       "      <th>Sold</th>\n",
       "      <td>-0.154698</td>\n",
       "      <td>0.024404</td>\n",
       "      <td>-0.004017</td>\n",
       "      <td>0.027148</td>\n",
       "      <td>-0.016291</td>\n",
       "      <td>-0.035309</td>\n",
       "      <td>-0.040356</td>\n",
       "      <td>-0.035768</td>\n",
       "      <td>-0.043612</td>\n",
       "      <td>0.042525</td>\n",
       "      <td>-0.082776</td>\n",
       "      <td>0.066847</td>\n",
       "      <td>-0.090338</td>\n",
       "      <td>-0.040114</td>\n",
       "      <td>0.004808</td>\n",
       "      <td>1.000000</td>\n",
       "    </tr>\n",
       "  </tbody>\n",
       "</table>\n",
       "</div>"
      ],
      "text/plain": [
       "                price  resid_area  air_qual  room_num       age     dist1  \\\n",
       "price        1.000000   -0.484754 -0.429300  0.696304 -0.377999  0.251355   \n",
       "resid_area  -0.484754    1.000000  0.763651 -0.391676  0.644779 -0.706481   \n",
       "air_qual    -0.429300    0.763651  1.000000 -0.302188  0.731470 -0.768589   \n",
       "room_num     0.696304   -0.391676 -0.302188  1.000000 -0.240265  0.208464   \n",
       "age         -0.377999    0.644779  0.731470 -0.240265  1.000000 -0.746904   \n",
       "dist1        0.251355   -0.706481 -0.768589  0.208464 -0.746904  1.000000   \n",
       "dist2        0.249459   -0.707956 -0.769724  0.203981 -0.746493  0.997905   \n",
       "dist3        0.246650   -0.707566 -0.769157  0.201907 -0.747021  0.997735   \n",
       "dist4        0.248200   -0.705819 -0.764873  0.205397 -0.746707  0.994073   \n",
       "teachers     0.505655   -0.383248 -0.188933  0.355501 -0.261515  0.232834   \n",
       "poor_prop   -0.740836    0.603800  0.590879 -0.613808  0.602339 -0.498823   \n",
       "n_hos_beds   0.108880    0.005799 -0.049553  0.032009 -0.021012 -0.030365   \n",
       "n_hot_rooms  0.017007   -0.003761  0.007238  0.014583  0.013918 -0.025398   \n",
       "rainfall    -0.047200    0.055845  0.091956 -0.064718  0.074684 -0.036812   \n",
       "parks       -0.391574    0.707635  0.915544 -0.282817  0.673850 -0.706319   \n",
       "Sold        -0.154698    0.024404 -0.004017  0.027148 -0.016291 -0.035309   \n",
       "\n",
       "                dist2     dist3     dist4  teachers  poor_prop  n_hos_beds  \\\n",
       "price        0.249459  0.246650  0.248200  0.505655  -0.740836    0.108880   \n",
       "resid_area  -0.707956 -0.707566 -0.705819 -0.383248   0.603800    0.005799   \n",
       "air_qual    -0.769724 -0.769157 -0.764873 -0.188933   0.590879   -0.049553   \n",
       "room_num     0.203981  0.201907  0.205397  0.355501  -0.613808    0.032009   \n",
       "age         -0.746493 -0.747021 -0.746707 -0.261515   0.602339   -0.021012   \n",
       "dist1        0.997905  0.997735  0.994073  0.232834  -0.498823   -0.030365   \n",
       "dist2        1.000000  0.998097  0.994003  0.233707  -0.495693   -0.031071   \n",
       "dist3        0.998097  1.000000  0.994126  0.233588  -0.494290   -0.028315   \n",
       "dist4        0.994003  0.994126  1.000000  0.228256  -0.496084   -0.021534   \n",
       "teachers     0.233707  0.233588  0.228256  1.000000  -0.374044   -0.008056   \n",
       "poor_prop   -0.495693 -0.494290 -0.496084 -0.374044   1.000000   -0.066008   \n",
       "n_hos_beds  -0.031071 -0.028315 -0.021534 -0.008056  -0.066008    1.000000   \n",
       "n_hot_rooms -0.021263 -0.019994 -0.016003 -0.037007   0.017036   -0.003130   \n",
       "rainfall    -0.037990 -0.041475 -0.032596 -0.045928   0.061444    0.058596   \n",
       "parks       -0.708237 -0.709346 -0.703508 -0.187004   0.552310   -0.071272   \n",
       "Sold        -0.040356 -0.035768 -0.043612  0.042525  -0.082776    0.066847   \n",
       "\n",
       "             n_hot_rooms  rainfall     parks      Sold  \n",
       "price           0.017007 -0.047200 -0.391574 -0.154698  \n",
       "resid_area     -0.003761  0.055845  0.707635  0.024404  \n",
       "air_qual        0.007238  0.091956  0.915544 -0.004017  \n",
       "room_num        0.014583 -0.064718 -0.282817  0.027148  \n",
       "age             0.013918  0.074684  0.673850 -0.016291  \n",
       "dist1          -0.025398 -0.036812 -0.706319 -0.035309  \n",
       "dist2          -0.021263 -0.037990 -0.708237 -0.040356  \n",
       "dist3          -0.019994 -0.041475 -0.709346 -0.035768  \n",
       "dist4          -0.016003 -0.032596 -0.703508 -0.043612  \n",
       "teachers       -0.037007 -0.045928 -0.187004  0.042525  \n",
       "poor_prop       0.017036  0.061444  0.552310 -0.082776  \n",
       "n_hos_beds     -0.003130  0.058596 -0.071272  0.066847  \n",
       "n_hot_rooms     1.000000  0.014869  0.023757 -0.090338  \n",
       "rainfall        0.014869  1.000000  0.078278 -0.040114  \n",
       "parks           0.023757  0.078278  1.000000  0.004808  \n",
       "Sold           -0.090338 -0.040114  0.004808  1.000000  "
      ]
     },
     "execution_count": 22,
     "metadata": {},
     "output_type": "execute_result"
    }
   ],
   "source": [
    "df.corr()"
   ]
  },
  {
   "cell_type": "markdown",
   "id": "7465ed60",
   "metadata": {},
   "source": [
    "Here the dist1,dist2,dist3,dist4 are the distance from the nearest office area of the city. These are highly correlated with each other. To remove the correlation we can take the avg distance."
   ]
  },
  {
   "cell_type": "code",
   "execution_count": 23,
   "id": "2ef15a9d",
   "metadata": {},
   "outputs": [],
   "source": [
    "X['avg_dist'] = (X.dist1 + X.dist2 + X.dist3 + X.dist4)/4"
   ]
  },
  {
   "cell_type": "code",
   "execution_count": 24,
   "id": "09862920",
   "metadata": {},
   "outputs": [
    {
     "data": {
      "text/html": [
       "<div>\n",
       "<style scoped>\n",
       "    .dataframe tbody tr th:only-of-type {\n",
       "        vertical-align: middle;\n",
       "    }\n",
       "\n",
       "    .dataframe tbody tr th {\n",
       "        vertical-align: top;\n",
       "    }\n",
       "\n",
       "    .dataframe thead th {\n",
       "        text-align: right;\n",
       "    }\n",
       "</style>\n",
       "<table border=\"1\" class=\"dataframe\">\n",
       "  <thead>\n",
       "    <tr style=\"text-align: right;\">\n",
       "      <th></th>\n",
       "      <th>price</th>\n",
       "      <th>resid_area</th>\n",
       "      <th>air_qual</th>\n",
       "      <th>room_num</th>\n",
       "      <th>age</th>\n",
       "      <th>teachers</th>\n",
       "      <th>poor_prop</th>\n",
       "      <th>n_hos_beds</th>\n",
       "      <th>n_hot_rooms</th>\n",
       "      <th>rainfall</th>\n",
       "      <th>parks</th>\n",
       "      <th>airport_YES</th>\n",
       "      <th>waterbody_Lake and River</th>\n",
       "      <th>waterbody_None</th>\n",
       "      <th>waterbody_River</th>\n",
       "      <th>avg_dist</th>\n",
       "    </tr>\n",
       "  </thead>\n",
       "  <tbody>\n",
       "    <tr>\n",
       "      <th>0</th>\n",
       "      <td>24.0</td>\n",
       "      <td>32.31</td>\n",
       "      <td>0.538</td>\n",
       "      <td>6.575</td>\n",
       "      <td>65.2</td>\n",
       "      <td>24.7</td>\n",
       "      <td>4.98</td>\n",
       "      <td>5.480</td>\n",
       "      <td>11.19200</td>\n",
       "      <td>23</td>\n",
       "      <td>0.049347</td>\n",
       "      <td>1</td>\n",
       "      <td>0</td>\n",
       "      <td>0</td>\n",
       "      <td>1</td>\n",
       "      <td>4.0875</td>\n",
       "    </tr>\n",
       "    <tr>\n",
       "      <th>1</th>\n",
       "      <td>21.6</td>\n",
       "      <td>37.07</td>\n",
       "      <td>0.469</td>\n",
       "      <td>6.421</td>\n",
       "      <td>78.9</td>\n",
       "      <td>22.2</td>\n",
       "      <td>9.14</td>\n",
       "      <td>7.332</td>\n",
       "      <td>12.17280</td>\n",
       "      <td>42</td>\n",
       "      <td>0.046146</td>\n",
       "      <td>0</td>\n",
       "      <td>0</td>\n",
       "      <td>0</td>\n",
       "      <td>0</td>\n",
       "      <td>4.9675</td>\n",
       "    </tr>\n",
       "    <tr>\n",
       "      <th>2</th>\n",
       "      <td>34.7</td>\n",
       "      <td>37.07</td>\n",
       "      <td>0.469</td>\n",
       "      <td>7.185</td>\n",
       "      <td>61.1</td>\n",
       "      <td>22.2</td>\n",
       "      <td>4.03</td>\n",
       "      <td>7.394</td>\n",
       "      <td>46.19856</td>\n",
       "      <td>38</td>\n",
       "      <td>0.045764</td>\n",
       "      <td>0</td>\n",
       "      <td>0</td>\n",
       "      <td>1</td>\n",
       "      <td>0</td>\n",
       "      <td>4.9675</td>\n",
       "    </tr>\n",
       "    <tr>\n",
       "      <th>3</th>\n",
       "      <td>33.4</td>\n",
       "      <td>32.18</td>\n",
       "      <td>0.458</td>\n",
       "      <td>6.998</td>\n",
       "      <td>45.8</td>\n",
       "      <td>21.3</td>\n",
       "      <td>2.94</td>\n",
       "      <td>9.268</td>\n",
       "      <td>11.26720</td>\n",
       "      <td>45</td>\n",
       "      <td>0.047151</td>\n",
       "      <td>1</td>\n",
       "      <td>0</td>\n",
       "      <td>0</td>\n",
       "      <td>0</td>\n",
       "      <td>6.0650</td>\n",
       "    </tr>\n",
       "    <tr>\n",
       "      <th>4</th>\n",
       "      <td>36.2</td>\n",
       "      <td>32.18</td>\n",
       "      <td>0.458</td>\n",
       "      <td>7.147</td>\n",
       "      <td>54.2</td>\n",
       "      <td>21.3</td>\n",
       "      <td>5.33</td>\n",
       "      <td>8.824</td>\n",
       "      <td>11.28960</td>\n",
       "      <td>55</td>\n",
       "      <td>0.039474</td>\n",
       "      <td>0</td>\n",
       "      <td>0</td>\n",
       "      <td>0</td>\n",
       "      <td>0</td>\n",
       "      <td>6.0625</td>\n",
       "    </tr>\n",
       "    <tr>\n",
       "      <th>...</th>\n",
       "      <td>...</td>\n",
       "      <td>...</td>\n",
       "      <td>...</td>\n",
       "      <td>...</td>\n",
       "      <td>...</td>\n",
       "      <td>...</td>\n",
       "      <td>...</td>\n",
       "      <td>...</td>\n",
       "      <td>...</td>\n",
       "      <td>...</td>\n",
       "      <td>...</td>\n",
       "      <td>...</td>\n",
       "      <td>...</td>\n",
       "      <td>...</td>\n",
       "      <td>...</td>\n",
       "      <td>...</td>\n",
       "    </tr>\n",
       "    <tr>\n",
       "      <th>501</th>\n",
       "      <td>22.4</td>\n",
       "      <td>41.93</td>\n",
       "      <td>0.573</td>\n",
       "      <td>6.593</td>\n",
       "      <td>69.1</td>\n",
       "      <td>19.0</td>\n",
       "      <td>9.67</td>\n",
       "      <td>9.348</td>\n",
       "      <td>12.17920</td>\n",
       "      <td>27</td>\n",
       "      <td>0.056006</td>\n",
       "      <td>0</td>\n",
       "      <td>1</td>\n",
       "      <td>0</td>\n",
       "      <td>0</td>\n",
       "      <td>2.4775</td>\n",
       "    </tr>\n",
       "    <tr>\n",
       "      <th>502</th>\n",
       "      <td>20.6</td>\n",
       "      <td>41.93</td>\n",
       "      <td>0.573</td>\n",
       "      <td>6.120</td>\n",
       "      <td>76.7</td>\n",
       "      <td>19.0</td>\n",
       "      <td>9.08</td>\n",
       "      <td>6.612</td>\n",
       "      <td>13.16480</td>\n",
       "      <td>20</td>\n",
       "      <td>0.059903</td>\n",
       "      <td>1</td>\n",
       "      <td>1</td>\n",
       "      <td>0</td>\n",
       "      <td>0</td>\n",
       "      <td>2.2875</td>\n",
       "    </tr>\n",
       "    <tr>\n",
       "      <th>503</th>\n",
       "      <td>23.9</td>\n",
       "      <td>41.93</td>\n",
       "      <td>0.573</td>\n",
       "      <td>6.976</td>\n",
       "      <td>91.0</td>\n",
       "      <td>19.0</td>\n",
       "      <td>5.64</td>\n",
       "      <td>5.478</td>\n",
       "      <td>12.19120</td>\n",
       "      <td>31</td>\n",
       "      <td>0.057572</td>\n",
       "      <td>0</td>\n",
       "      <td>0</td>\n",
       "      <td>1</td>\n",
       "      <td>0</td>\n",
       "      <td>2.1675</td>\n",
       "    </tr>\n",
       "    <tr>\n",
       "      <th>504</th>\n",
       "      <td>22.0</td>\n",
       "      <td>41.93</td>\n",
       "      <td>0.573</td>\n",
       "      <td>6.794</td>\n",
       "      <td>89.3</td>\n",
       "      <td>19.0</td>\n",
       "      <td>6.48</td>\n",
       "      <td>7.940</td>\n",
       "      <td>15.17600</td>\n",
       "      <td>47</td>\n",
       "      <td>0.060694</td>\n",
       "      <td>1</td>\n",
       "      <td>0</td>\n",
       "      <td>1</td>\n",
       "      <td>0</td>\n",
       "      <td>2.3900</td>\n",
       "    </tr>\n",
       "    <tr>\n",
       "      <th>505</th>\n",
       "      <td>19.0</td>\n",
       "      <td>41.93</td>\n",
       "      <td>0.573</td>\n",
       "      <td>6.030</td>\n",
       "      <td>80.8</td>\n",
       "      <td>19.0</td>\n",
       "      <td>7.88</td>\n",
       "      <td>10.280</td>\n",
       "      <td>10.15200</td>\n",
       "      <td>45</td>\n",
       "      <td>0.060336</td>\n",
       "      <td>1</td>\n",
       "      <td>0</td>\n",
       "      <td>1</td>\n",
       "      <td>0</td>\n",
       "      <td>2.5050</td>\n",
       "    </tr>\n",
       "  </tbody>\n",
       "</table>\n",
       "<p>506 rows × 16 columns</p>\n",
       "</div>"
      ],
      "text/plain": [
       "     price  resid_area  air_qual  room_num   age  teachers  poor_prop  \\\n",
       "0     24.0       32.31     0.538     6.575  65.2      24.7       4.98   \n",
       "1     21.6       37.07     0.469     6.421  78.9      22.2       9.14   \n",
       "2     34.7       37.07     0.469     7.185  61.1      22.2       4.03   \n",
       "3     33.4       32.18     0.458     6.998  45.8      21.3       2.94   \n",
       "4     36.2       32.18     0.458     7.147  54.2      21.3       5.33   \n",
       "..     ...         ...       ...       ...   ...       ...        ...   \n",
       "501   22.4       41.93     0.573     6.593  69.1      19.0       9.67   \n",
       "502   20.6       41.93     0.573     6.120  76.7      19.0       9.08   \n",
       "503   23.9       41.93     0.573     6.976  91.0      19.0       5.64   \n",
       "504   22.0       41.93     0.573     6.794  89.3      19.0       6.48   \n",
       "505   19.0       41.93     0.573     6.030  80.8      19.0       7.88   \n",
       "\n",
       "     n_hos_beds  n_hot_rooms  rainfall     parks  airport_YES  \\\n",
       "0         5.480     11.19200        23  0.049347            1   \n",
       "1         7.332     12.17280        42  0.046146            0   \n",
       "2         7.394     46.19856        38  0.045764            0   \n",
       "3         9.268     11.26720        45  0.047151            1   \n",
       "4         8.824     11.28960        55  0.039474            0   \n",
       "..          ...          ...       ...       ...          ...   \n",
       "501       9.348     12.17920        27  0.056006            0   \n",
       "502       6.612     13.16480        20  0.059903            1   \n",
       "503       5.478     12.19120        31  0.057572            0   \n",
       "504       7.940     15.17600        47  0.060694            1   \n",
       "505      10.280     10.15200        45  0.060336            1   \n",
       "\n",
       "     waterbody_Lake and River  waterbody_None  waterbody_River  avg_dist  \n",
       "0                           0               0                1    4.0875  \n",
       "1                           0               0                0    4.9675  \n",
       "2                           0               1                0    4.9675  \n",
       "3                           0               0                0    6.0650  \n",
       "4                           0               0                0    6.0625  \n",
       "..                        ...             ...              ...       ...  \n",
       "501                         1               0                0    2.4775  \n",
       "502                         1               0                0    2.2875  \n",
       "503                         0               1                0    2.1675  \n",
       "504                         0               1                0    2.3900  \n",
       "505                         0               1                0    2.5050  \n",
       "\n",
       "[506 rows x 16 columns]"
      ]
     },
     "execution_count": 24,
     "metadata": {},
     "output_type": "execute_result"
    }
   ],
   "source": [
    "X.drop(['dist1', 'dist2', 'dist3', 'dist4'], axis=1, inplace=True)\n",
    "X"
   ]
  },
  {
   "cell_type": "markdown",
   "id": "9f2b1f3d",
   "metadata": {},
   "source": [
    "The predictor variable 'parks' is highly correlated to multiple variables. Hence, dropping it would increase accuracy."
   ]
  },
  {
   "cell_type": "code",
   "execution_count": 25,
   "id": "19c96ac3",
   "metadata": {},
   "outputs": [],
   "source": [
    "X.drop(['parks'], axis=1, inplace=True)"
   ]
  },
  {
   "cell_type": "markdown",
   "id": "b64c9446",
   "metadata": {},
   "source": [
    "Now let us begin testing the classification models in increasing order of model complexity.\n",
    "#### First a simple linear regression model to predict the values of outcome and assigning a class based on a decision boundary"
   ]
  },
  {
   "cell_type": "code",
   "execution_count": 26,
   "id": "0f02e312",
   "metadata": {},
   "outputs": [],
   "source": [
    "from sklearn.linear_model import LinearRegression"
   ]
  },
  {
   "cell_type": "code",
   "execution_count": 27,
   "id": "fc9c8915",
   "metadata": {},
   "outputs": [],
   "source": [
    "reg_clf = LinearRegression()"
   ]
  },
  {
   "cell_type": "markdown",
   "id": "78339da2",
   "metadata": {},
   "source": [
    "#### splitting the data into testing and training sets"
   ]
  },
  {
   "cell_type": "code",
   "execution_count": 28,
   "id": "836c55aa",
   "metadata": {},
   "outputs": [],
   "source": [
    "from sklearn.model_selection import train_test_split"
   ]
  },
  {
   "cell_type": "code",
   "execution_count": 29,
   "id": "ca9353fd",
   "metadata": {},
   "outputs": [],
   "source": [
    "X_train, X_test, Y_train, Y_test = train_test_split(X, Y, test_size=0.2)"
   ]
  },
  {
   "cell_type": "markdown",
   "id": "61e28ac3",
   "metadata": {},
   "source": [
    "#### Fitting our model to the training data"
   ]
  },
  {
   "cell_type": "code",
   "execution_count": 30,
   "id": "b401881b",
   "metadata": {},
   "outputs": [
    {
     "data": {
      "text/plain": [
       "LinearRegression()"
      ]
     },
     "execution_count": 30,
     "metadata": {},
     "output_type": "execute_result"
    }
   ],
   "source": [
    "reg_clf.fit(X_train, Y_train)"
   ]
  },
  {
   "cell_type": "code",
   "execution_count": 31,
   "id": "cba0cc2f",
   "metadata": {},
   "outputs": [
    {
     "data": {
      "text/plain": [
       "array([-0.28639313,  0.3572571 ,  0.51682867,  0.51401203,  0.44972009,\n",
       "        0.35848544,  0.37021549,  0.5868103 ,  0.3714806 ,  0.58256158,\n",
       "        0.46340599,  0.54627829,  0.69021691,  0.39252149,  0.27201738,\n",
       "        0.50943533,  0.53254423,  0.44022839,  0.32473361,  0.54857968,\n",
       "        0.16917457,  0.3172562 ,  0.49635355,  0.34189113,  0.20632464,\n",
       "        0.18194084,  0.22978915,  0.70133285,  0.79228524, -0.06727611,\n",
       "        0.51057949,  0.5481461 ,  0.47903386,  0.99386059,  0.26858073,\n",
       "        0.7286473 ,  0.43004895,  0.52394765,  0.22013331,  0.42962128,\n",
       "        0.63353045,  0.37635081,  0.2151968 ,  0.34938469,  0.92198432,\n",
       "        0.11590749,  0.53563796,  0.45342094,  0.8016069 ,  0.26369433,\n",
       "        0.43872058,  0.21542933,  0.37331219,  0.1924294 ,  0.61417095,\n",
       "        0.41976709,  0.67135971,  0.28179417,  0.5054738 ,  0.74247666,\n",
       "        0.75950289,  0.52638445,  0.048276  ,  0.60940291,  0.52085457,\n",
       "        0.49243204,  0.51164114,  0.8134237 ,  0.49126682,  0.51292934,\n",
       "        0.02521481,  0.67341405,  0.73294874,  0.50404191,  0.72003563,\n",
       "        0.64813605,  0.56773469,  0.51273197,  0.15375938,  0.59232612,\n",
       "        0.89626639,  0.59983456,  0.48915212,  0.41272636,  0.64268019,\n",
       "        0.46690379,  0.46313478,  0.40896743,  0.5430829 ,  0.5652633 ,\n",
       "        0.44444025,  0.43549487,  0.86800245,  0.80322934,  0.64106429,\n",
       "        0.08846371,  0.67364113,  0.65722215,  0.71932792,  0.32824659,\n",
       "        0.71908017,  0.7611517 ])"
      ]
     },
     "execution_count": 31,
     "metadata": {},
     "output_type": "execute_result"
    }
   ],
   "source": [
    "reg_clf.predict(X_test)"
   ]
  },
  {
   "cell_type": "code",
   "execution_count": 32,
   "id": "54b481fd",
   "metadata": {},
   "outputs": [],
   "source": [
    "Y_pred = reg_clf.predict(X_test)"
   ]
  },
  {
   "cell_type": "markdown",
   "id": "727ec15e",
   "metadata": {},
   "source": [
    "#### Setting up a decision boundary\n",
    "So our model predicted the values but they do not belong to any class and are quantitative. So a decision boundary needs to be set up so that the outcomes are classified to a certain class when the predicted outcome values are in a certain range.\n",
    "Here I am choosing a decision boundary in the middle, that is, 0.5.\n",
    "predicted values higher than 0.5 will be assigned to class 1 else 0"
   ]
  },
  {
   "cell_type": "code",
   "execution_count": 33,
   "id": "2d97d498",
   "metadata": {},
   "outputs": [],
   "source": [
    "Y_pred[Y_pred > 0.5] = 1"
   ]
  },
  {
   "cell_type": "code",
   "execution_count": 34,
   "id": "b86ff494",
   "metadata": {},
   "outputs": [],
   "source": [
    "Y_pred[Y_pred <= 0.5] = 0"
   ]
  },
  {
   "cell_type": "code",
   "execution_count": 35,
   "id": "70119413",
   "metadata": {},
   "outputs": [
    {
     "data": {
      "text/plain": [
       "array([0., 0., 1., 1., 0., 0., 0., 1., 0., 1., 0., 1., 1., 0., 0., 1., 1.,\n",
       "       0., 0., 1., 0., 0., 0., 0., 0., 0., 0., 1., 1., 0., 1., 1., 0., 1.,\n",
       "       0., 1., 0., 1., 0., 0., 1., 0., 0., 0., 1., 0., 1., 0., 1., 0., 0.,\n",
       "       0., 0., 0., 1., 0., 1., 0., 1., 1., 1., 1., 0., 1., 1., 0., 1., 1.,\n",
       "       0., 1., 0., 1., 1., 1., 1., 1., 1., 1., 0., 1., 1., 1., 0., 0., 1.,\n",
       "       0., 0., 0., 1., 1., 0., 0., 1., 1., 1., 0., 1., 1., 1., 0., 1., 1.])"
      ]
     },
     "execution_count": 35,
     "metadata": {},
     "output_type": "execute_result"
    }
   ],
   "source": [
    "Y_pred"
   ]
  },
  {
   "cell_type": "code",
   "execution_count": 36,
   "id": "d8a8ba42",
   "metadata": {},
   "outputs": [],
   "source": [
    "from sklearn.metrics import accuracy_score"
   ]
  },
  {
   "cell_type": "code",
   "execution_count": 37,
   "id": "f5f4111e",
   "metadata": {},
   "outputs": [
    {
     "data": {
      "text/plain": [
       "0.6274509803921569"
      ]
     },
     "execution_count": 37,
     "metadata": {},
     "output_type": "execute_result"
    }
   ],
   "source": [
    "accuracy_score(Y_test, Y_pred)"
   ]
  },
  {
   "cell_type": "markdown",
   "id": "a1d04958",
   "metadata": {},
   "source": [
    "Accuracy score of this model does not seem to be that high. The problem is that the regression model predicts the probability\n",
    "but the values of some of the predicted values may come above 1 or below 0 as seen in raw predicted values.\n",
    "This increases the rate of misclassification."
   ]
  },
  {
   "cell_type": "markdown",
   "id": "8c35b894",
   "metadata": {},
   "source": [
    "To counter this problem the linear regression equation is put in the logistic function to make a logistic regression model.\n",
    "#### Logistic regression"
   ]
  },
  {
   "cell_type": "code",
   "execution_count": 38,
   "id": "009a5df8",
   "metadata": {},
   "outputs": [],
   "source": [
    "from sklearn.linear_model import LogisticRegression\n",
    "logit_clf = LogisticRegression(max_iter=1000)"
   ]
  },
  {
   "cell_type": "markdown",
   "id": "0e45e5b8",
   "metadata": {},
   "source": [
    "#### Fitting to test data"
   ]
  },
  {
   "cell_type": "code",
   "execution_count": 39,
   "id": "eb204481",
   "metadata": {},
   "outputs": [
    {
     "data": {
      "text/plain": [
       "LogisticRegression(max_iter=1000)"
      ]
     },
     "execution_count": 39,
     "metadata": {},
     "output_type": "execute_result"
    }
   ],
   "source": [
    "logit_clf.fit(X_train, Y_train)"
   ]
  },
  {
   "cell_type": "code",
   "execution_count": 40,
   "id": "6f34f2eb",
   "metadata": {},
   "outputs": [
    {
     "data": {
      "text/plain": [
       "array([0, 0, 1, 1, 0, 0, 0, 1, 0, 1, 0, 1, 1, 0, 0, 0, 1, 1, 0, 1, 0, 0,\n",
       "       0, 0, 0, 0, 0, 1, 1, 0, 1, 1, 0, 1, 0, 1, 0, 1, 0, 0, 1, 0, 0, 0,\n",
       "       1, 0, 0, 0, 1, 0, 0, 0, 0, 0, 1, 0, 1, 0, 0, 1, 1, 0, 0, 1, 1, 1,\n",
       "       1, 1, 0, 0, 0, 1, 1, 0, 1, 1, 1, 1, 0, 1, 1, 1, 0, 0, 1, 1, 0, 0,\n",
       "       1, 0, 0, 0, 1, 1, 1, 0, 1, 1, 1, 0, 1, 1], dtype=int64)"
      ]
     },
     "execution_count": 40,
     "metadata": {},
     "output_type": "execute_result"
    }
   ],
   "source": [
    "logit_clf.predict(X_test)"
   ]
  },
  {
   "cell_type": "markdown",
   "id": "31634bf6",
   "metadata": {},
   "source": [
    "#### accuracy score"
   ]
  },
  {
   "cell_type": "code",
   "execution_count": 41,
   "id": "08957479",
   "metadata": {},
   "outputs": [
    {
     "data": {
      "text/plain": [
       "0.6470588235294118"
      ]
     },
     "execution_count": 41,
     "metadata": {},
     "output_type": "execute_result"
    }
   ],
   "source": [
    "accuracy_score(Y_test, logit_clf.predict(X_test))"
   ]
  },
  {
   "cell_type": "markdown",
   "id": "11b05e0b",
   "metadata": {},
   "source": [
    "#### Linear Disciminant analysis\n",
    "Linear discriminant analysis works best for normally distributed data. It assigns to the class having greatest likelihood.\n",
    "LDA uses full likelihood based on pr(y|x) known as generative learning, while logistic regression uses the conditional likelihood based on pr(y|x), known as discriminative learning"
   ]
  },
  {
   "cell_type": "code",
   "execution_count": 42,
   "id": "dbf5ee8b",
   "metadata": {},
   "outputs": [],
   "source": [
    "from sklearn.discriminant_analysis import LinearDiscriminantAnalysis"
   ]
  },
  {
   "cell_type": "code",
   "execution_count": 43,
   "id": "8a79983e",
   "metadata": {},
   "outputs": [],
   "source": [
    "lda_clf = LinearDiscriminantAnalysis()"
   ]
  },
  {
   "cell_type": "markdown",
   "id": "36c46d13",
   "metadata": {},
   "source": [
    "#### Fitting to test data"
   ]
  },
  {
   "cell_type": "code",
   "execution_count": 44,
   "id": "46222934",
   "metadata": {},
   "outputs": [
    {
     "data": {
      "text/plain": [
       "LinearDiscriminantAnalysis()"
      ]
     },
     "execution_count": 44,
     "metadata": {},
     "output_type": "execute_result"
    }
   ],
   "source": [
    "lda_clf.fit(X_train, Y_train)"
   ]
  },
  {
   "cell_type": "code",
   "execution_count": 45,
   "id": "f5ad98a9",
   "metadata": {},
   "outputs": [
    {
     "data": {
      "text/plain": [
       "array([0, 0, 1, 1, 0, 0, 0, 1, 0, 1, 0, 1, 1, 0, 0, 1, 1, 0, 0, 1, 0, 0,\n",
       "       0, 0, 0, 0, 0, 1, 1, 0, 1, 1, 0, 1, 0, 1, 0, 1, 0, 0, 1, 0, 0, 0,\n",
       "       1, 0, 1, 0, 1, 0, 0, 0, 0, 0, 1, 0, 1, 0, 1, 1, 1, 1, 0, 1, 1, 0,\n",
       "       1, 1, 0, 1, 0, 1, 1, 1, 1, 1, 1, 1, 0, 1, 1, 1, 0, 0, 1, 0, 0, 0,\n",
       "       1, 1, 0, 0, 1, 1, 1, 0, 1, 1, 1, 0, 1, 1], dtype=int64)"
      ]
     },
     "execution_count": 45,
     "metadata": {},
     "output_type": "execute_result"
    }
   ],
   "source": [
    "lda_clf.predict(X_test)"
   ]
  },
  {
   "cell_type": "markdown",
   "id": "046c600b",
   "metadata": {},
   "source": [
    "#### accuracy score"
   ]
  },
  {
   "cell_type": "code",
   "execution_count": 46,
   "id": "9070d204",
   "metadata": {},
   "outputs": [
    {
     "data": {
      "text/plain": [
       "0.6274509803921569"
      ]
     },
     "execution_count": 46,
     "metadata": {},
     "output_type": "execute_result"
    }
   ],
   "source": [
    "accuracy_score(Y_test, lda_clf.predict(X_test))"
   ]
  },
  {
   "cell_type": "markdown",
   "id": "cec8054f",
   "metadata": {},
   "source": [
    "The accuracy decreased indicating that the assumption that the data is normally distributed is not true which results in a poorly fitted data decreasing the accuracy."
   ]
  },
  {
   "cell_type": "markdown",
   "id": "b85eff25",
   "metadata": {},
   "source": [
    "#### K Nearest Neighbor Classifier\n",
    "This classifier finds the K nearest data points in the training set from a certain point and estimates the probability by comparing the ratio of each class to obtain a decision boundary.\n",
    "Since it compares data points, the whole training and testing set need to be standardized.\n",
    "##### Standardization"
   ]
  },
  {
   "cell_type": "code",
   "execution_count": 47,
   "id": "41712a27",
   "metadata": {},
   "outputs": [],
   "source": [
    "from sklearn.preprocessing import StandardScaler"
   ]
  },
  {
   "cell_type": "code",
   "execution_count": 48,
   "id": "89f338f4",
   "metadata": {},
   "outputs": [],
   "source": [
    "X_train_s = StandardScaler().fit(X_train).transform(X_train)"
   ]
  },
  {
   "cell_type": "code",
   "execution_count": 49,
   "id": "cebab65d",
   "metadata": {},
   "outputs": [],
   "source": [
    "X_test_s = StandardScaler().fit(X_train).transform(X_test)"
   ]
  },
  {
   "cell_type": "markdown",
   "id": "b20b31d7",
   "metadata": {},
   "source": [
    "Standardized data"
   ]
  },
  {
   "cell_type": "code",
   "execution_count": 50,
   "id": "b6bd4ade",
   "metadata": {},
   "outputs": [
    {
     "data": {
      "text/plain": [
       "array([[ 0.12641518, -0.10289916, -0.58254587, ...,  1.51147373,\n",
       "        -0.75225758, -0.0906532 ],\n",
       "       [ 1.32533244, -1.20339961, -1.11113078, ..., -0.66160594,\n",
       "         1.3293319 ,  0.75831475],\n",
       "       [-0.2161326 , -0.78422993, -1.0851348 , ..., -0.66160594,\n",
       "         1.3293319 ,  2.00073544],\n",
       "       ...,\n",
       "       [-0.63361272, -0.45580833, -0.15794488, ..., -0.66160594,\n",
       "        -0.75225758,  0.42106955],\n",
       "       [ 0.16923366, -1.3359206 , -1.22378002, ..., -0.66160594,\n",
       "         1.3293319 ,  1.16581937],\n",
       "       [ 0.1371198 ,  1.19206145,  0.42263199, ..., -0.66160594,\n",
       "        -0.75225758, -0.63633467]])"
      ]
     },
     "execution_count": 50,
     "metadata": {},
     "output_type": "execute_result"
    }
   ],
   "source": [
    "X_test_s"
   ]
  },
  {
   "cell_type": "markdown",
   "id": "97c260c3",
   "metadata": {},
   "source": [
    "##### importing and creating the model"
   ]
  },
  {
   "cell_type": "code",
   "execution_count": 51,
   "id": "df711f4e",
   "metadata": {},
   "outputs": [],
   "source": [
    "from sklearn.neighbors import KNeighborsClassifier\n",
    "knn = KNeighborsClassifier(n_neighbors=int(506**0.5)-1)"
   ]
  },
  {
   "cell_type": "markdown",
   "id": "121f06a4",
   "metadata": {},
   "source": [
    "Here, for the number of neighbours, if a large value is taken the bias increases and for a low value such as one the model is overfitted and variance is increased.\n",
    "Typically a value in between which is not an even number is taken. Here, I have taken the sqrt(506)-1. This hyper parameter can be tuned for maximum accuracy.\n",
    "##### Fitting the model"
   ]
  },
  {
   "cell_type": "code",
   "execution_count": 52,
   "id": "95e510ef",
   "metadata": {},
   "outputs": [
    {
     "data": {
      "text/plain": [
       "KNeighborsClassifier(n_neighbors=21)"
      ]
     },
     "execution_count": 52,
     "metadata": {},
     "output_type": "execute_result"
    }
   ],
   "source": [
    "knn.fit(X_train_s, Y_train)"
   ]
  },
  {
   "cell_type": "code",
   "execution_count": 53,
   "id": "886db973",
   "metadata": {},
   "outputs": [
    {
     "data": {
      "text/plain": [
       "array([0, 0, 1, 1, 1, 0, 0, 1, 1, 0, 0, 1, 1, 1, 0, 0, 1, 0, 0, 1, 0, 1,\n",
       "       1, 1, 0, 0, 1, 1, 1, 0, 1, 0, 0, 0, 0, 1, 0, 1, 0, 1, 1, 0, 0, 1,\n",
       "       1, 0, 0, 1, 0, 0, 1, 0, 0, 0, 1, 1, 0, 0, 0, 1, 1, 1, 0, 0, 0, 0,\n",
       "       1, 1, 1, 1, 1, 1, 0, 0, 1, 0, 0, 1, 1, 1, 1, 1, 0, 0, 1, 1, 0, 0,\n",
       "       1, 1, 1, 1, 1, 1, 1, 0, 0, 1, 1, 0, 1, 1], dtype=int64)"
      ]
     },
     "execution_count": 53,
     "metadata": {},
     "output_type": "execute_result"
    }
   ],
   "source": [
    "knn.predict(X_test_s)"
   ]
  },
  {
   "cell_type": "markdown",
   "id": "f37f504a",
   "metadata": {},
   "source": [
    "#### accuracy score"
   ]
  },
  {
   "cell_type": "code",
   "execution_count": 54,
   "id": "56d69b8d",
   "metadata": {},
   "outputs": [
    {
     "data": {
      "text/plain": [
       "0.4803921568627451"
      ]
     },
     "execution_count": 54,
     "metadata": {},
     "output_type": "execute_result"
    }
   ],
   "source": [
    "accuracy_score(Y_test, knn.predict(X_test_s))"
   ]
  },
  {
   "cell_type": "markdown",
   "id": "8a67271e",
   "metadata": {},
   "source": [
    "To improve the accuracy we need to find a better value for n_neighbors\n",
    "##### Finding a better value for n_neighbors"
   ]
  },
  {
   "cell_type": "code",
   "execution_count": 55,
   "id": "4599db8a",
   "metadata": {},
   "outputs": [
    {
     "data": {
      "text/plain": [
       "[0.5490196078431373,\n",
       " 0.5196078431372549,\n",
       " 0.5392156862745098,\n",
       " 0.4803921568627451,\n",
       " 0.5196078431372549,\n",
       " 0.5098039215686274,\n",
       " 0.5196078431372549,\n",
       " 0.4803921568627451,\n",
       " 0.5196078431372549,\n",
       " 0.4803921568627451,\n",
       " 0.5,\n",
       " 0.5196078431372549,\n",
       " 0.47058823529411764,\n",
       " 0.5098039215686274,\n",
       " 0.5294117647058824,\n",
       " 0.5098039215686274,\n",
       " 0.49019607843137253,\n",
       " 0.4803921568627451,\n",
       " 0.4803921568627451,\n",
       " 0.49019607843137253,\n",
       " 0.4803921568627451,\n",
       " 0.47058823529411764,\n",
       " 0.47058823529411764,\n",
       " 0.45098039215686275]"
      ]
     },
     "execution_count": 55,
     "metadata": {},
     "output_type": "execute_result"
    }
   ],
   "source": [
    "acc_score = [accuracy_score(Y_test, KNeighborsClassifier(n_neighbors=i).fit(X_train_s, Y_train).predict(X_test_s))\n",
    "             for i in range(1,25)]\n",
    "best = np.where(acc_score==max(acc_score))\n",
    "best\n",
    "acc_score"
   ]
  },
  {
   "cell_type": "code",
   "execution_count": 56,
   "id": "e47a50e0",
   "metadata": {},
   "outputs": [],
   "source": [
    "knn_best = KNeighborsClassifier(n_neighbors=14)"
   ]
  },
  {
   "cell_type": "code",
   "execution_count": 57,
   "id": "3f106bab",
   "metadata": {},
   "outputs": [
    {
     "data": {
      "text/plain": [
       "KNeighborsClassifier(n_neighbors=14)"
      ]
     },
     "execution_count": 57,
     "metadata": {},
     "output_type": "execute_result"
    }
   ],
   "source": [
    "knn_best.fit(X_train_s, Y_train)"
   ]
  },
  {
   "cell_type": "code",
   "execution_count": 58,
   "id": "75d8cd0b",
   "metadata": {},
   "outputs": [
    {
     "data": {
      "text/plain": [
       "0.5098039215686274"
      ]
     },
     "execution_count": 58,
     "metadata": {},
     "output_type": "execute_result"
    }
   ],
   "source": [
    "accuracy_score(Y_test, knn_best.predict(X_test_s))"
   ]
  },
  {
   "cell_type": "markdown",
   "id": "e8eb4b53",
   "metadata": {},
   "source": [
    "This is the highest accuracy that can be achieved for the selected range of n_neighbors.\n",
    "Also, the value used here is even which sometimes leads to sometimes equal proportion which causes the module to randomly assign to a class. To avoid this an odd value is chosen.\n",
    "#### Random Forest Classifer\n",
    "In a random forest classifier simple classification trees are created and fittied on random subsets of predictor varaibles of the training set. A plus point about random forest is that it can handle multicollinearity to a certain extent.\n"
   ]
  },
  {
   "cell_type": "code",
   "execution_count": 59,
   "id": "6bf27a61",
   "metadata": {},
   "outputs": [],
   "source": [
    "from sklearn.ensemble import RandomForestClassifier"
   ]
  },
  {
   "cell_type": "code",
   "execution_count": 60,
   "id": "1dcff2bb",
   "metadata": {},
   "outputs": [],
   "source": [
    "for_clf = RandomForestClassifier(max_depth=4, n_estimators=700, criterion='gini')"
   ]
  },
  {
   "cell_type": "code",
   "execution_count": 61,
   "id": "ad37dc4f",
   "metadata": {},
   "outputs": [
    {
     "data": {
      "text/plain": [
       "RandomForestClassifier(max_depth=4, n_estimators=700)"
      ]
     },
     "execution_count": 61,
     "metadata": {},
     "output_type": "execute_result"
    }
   ],
   "source": [
    "for_clf.fit(X_train,Y_train)"
   ]
  },
  {
   "cell_type": "code",
   "execution_count": 62,
   "id": "988d0a38",
   "metadata": {},
   "outputs": [
    {
     "data": {
      "text/plain": [
       "0.5980392156862745"
      ]
     },
     "execution_count": 62,
     "metadata": {},
     "output_type": "execute_result"
    }
   ],
   "source": [
    "accuracy_score(Y_test, for_clf.predict(X_test))"
   ]
  },
  {
   "cell_type": "markdown",
   "id": "0762b6ae",
   "metadata": {},
   "source": [
    "#### Hypertuning the parameters"
   ]
  },
  {
   "cell_type": "code",
   "execution_count": 63,
   "id": "4cf2747f",
   "metadata": {},
   "outputs": [
    {
     "data": {
      "text/plain": [
       "GridSearchCV(cv=10, estimator=RandomForestClassifier(), n_jobs=-1,\n",
       "             param_grid={'max_depth': [3, 4, 5],\n",
       "                         'n_estimators': range(100, 2500, 300)},\n",
       "             scoring='accuracy')"
      ]
     },
     "execution_count": 63,
     "metadata": {},
     "output_type": "execute_result"
    }
   ],
   "source": [
    "from sklearn.model_selection import GridSearchCV\n",
    "params_grid={'max_depth': [3,4,5],\n",
    "            'n_estimators': range(100,2500,300)}\n",
    "t_model = RandomForestClassifier(criterion = 'gini', max_features='auto')\n",
    "grd_src = GridSearchCV(t_model, param_grid=params_grid, scoring='accuracy', cv=10, n_jobs=-1)\n",
    "grd_src.fit(X_train,Y_train)"
   ]
  },
  {
   "cell_type": "code",
   "execution_count": 64,
   "id": "be5f17d0",
   "metadata": {},
   "outputs": [],
   "source": [
    "best_for_clf = grd_src.best_estimator_"
   ]
  },
  {
   "cell_type": "code",
   "execution_count": 65,
   "id": "1e0601ef",
   "metadata": {},
   "outputs": [
    {
     "data": {
      "text/plain": [
       "0.5980392156862745"
      ]
     },
     "execution_count": 65,
     "metadata": {},
     "output_type": "execute_result"
    }
   ],
   "source": [
    "accuracy_score(Y_test, best_for_clf.predict(X_test))"
   ]
  },
  {
   "cell_type": "code",
   "execution_count": 66,
   "id": "6f2b2917",
   "metadata": {},
   "outputs": [
    {
     "data": {
      "text/plain": [
       "{'max_depth': 4, 'n_estimators': 400}"
      ]
     },
     "execution_count": 66,
     "metadata": {},
     "output_type": "execute_result"
    }
   ],
   "source": [
    "grd_src.best_params_"
   ]
  },
  {
   "cell_type": "markdown",
   "id": "e91779cf",
   "metadata": {},
   "source": [
    "These are the parameters that led to the maximum accuracy observed"
   ]
  },
  {
   "cell_type": "markdown",
   "id": "ed35503a",
   "metadata": {},
   "source": [
    "#### Comparing the accuracy scores"
   ]
  },
  {
   "cell_type": "code",
   "execution_count": 67,
   "id": "047da10b",
   "metadata": {},
   "outputs": [
    {
     "data": {
      "image/png": "[encoded data removed]",
      "text/plain": [
       "<Figure size 432x288 with 1 Axes>"
      ]
     },
     "metadata": {
      "needs_background": "light"
     },
     "output_type": "display_data"
    }
   ],
   "source": [
    "accuracy_data = [0.6176470588235294, 0.6470588235294118, 0.6176470588235294, 0.6372549019607843, 0.6470588235294118]\n",
    "model = ['Linear', 'logistic', 'LDA', 'KNN', 'Rand_for']\n",
    "plt.bar(model, accuracy_data)\n",
    "plt.show()"
   ]
  },
  {
   "cell_type": "markdown",
   "id": "c0b624f0",
   "metadata": {},
   "source": [
    "### Conclusion\n",
    "In this dataset the highest accuracy score achieved by the models is 0.6470588235294118 which could not be further improved.\n",
    "The most accurate models for this dataset are logistic regression and random forest classifier.\n",
    "##### Why KNN could not perform better\n",
    "The second most accurate model is KNN classifer. It is not suitable for higher dimensional analysis with variables greter than 4 as it becomes difficult to obtain datapoints in higher dimensions and to search for the nearest neighbors the search region must be extended to a large amount which makes this method lousy.\n",
    "##### Which model of the best two is the better choice\n",
    "Random forests do provide a very good prediction accuracy but are very difficult to interpret or visualize or to get any inference from. Logistic regression, on the other hand, is a very simple model that is easy to interpret and obtain inferencial data about which predictor is affecting the output the most.\n",
    "Since, both of these have similar accuracy in this case, the logistic regression is obviously a better choice.\n",
    "But in some cases the False positive or true negative error is required to be minimized, in such cases decision boundaries can be shifted in logistic regression but if that is not desired then the model whcih has minimum False positive or true negative error rate can be chosen.\n",
    "Here just the accuracy matters so logistic regression is the best choice "
   ]
  }
 ],
 "metadata": {
  "kernelspec": {
   "display_name": "Python 3",
   "language": "python",
   "name": "python3"
  },
  "language_info": {
   "codemirror_mode": {
    "name": "ipython",
    "version": 3
   },
   "file_extension": ".py",
   "mimetype": "text/x-python",
   "name": "python",
   "nbconvert_exporter": "python",
   "pygments_lexer": "ipython3",
   "version": "3.8.8"
  }
 },
 "nbformat": 4,
 "nbformat_minor": 5
}
